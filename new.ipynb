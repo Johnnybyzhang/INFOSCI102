{
 "cells": [
  {
   "cell_type": "code",
   "execution_count": 5,
   "metadata": {},
   "outputs": [
    {
     "name": "stdout",
     "output_type": "stream",
     "text": [
      "b:4\n",
      "e:6\n",
      "c:7\n",
      "d:28+44\n"
     ]
    }
   ],
   "source": [
    "def ct(x, y):\n",
    "    for z in range(x, y):\n",
    "        if (z < y/2):\n",
    "            if (z%4 == 0):\n",
    "                print('b:', end=\"\")\n",
    "                print(z)\n",
    "            elif (z%2 == 0):\n",
    "                print('e:', end=\"\")\n",
    "                print(z)\n",
    "        elif(x+ y + z == 25) :\n",
    "            print('c:', end=\"\")\n",
    "            print(z)\n",
    "    for z in range(y, x):\n",
    "        print(f'a:', end=\"'\")\n",
    "        print(z)\n",
    "    w = 0\n",
    "    for z in range(x, 10*x, x):\n",
    "        if (z <5*x):\n",
    "            continue\n",
    "        elif (z >= 7*x):\n",
    "            return 'd:' + str(z) + '+' + str(w)\n",
    "        w += z\n",
    "    return True\n",
    "print(ct(4, 14))"
   ]
  }
 ],
 "metadata": {
  "kernelspec": {
   "display_name": "Python 3",
   "language": "python",
   "name": "python3"
  },
  "language_info": {
   "codemirror_mode": {
    "name": "ipython",
    "version": 3
   },
   "file_extension": ".py",
   "mimetype": "text/x-python",
   "name": "python",
   "nbconvert_exporter": "python",
   "pygments_lexer": "ipython3",
   "version": "3.10.13"
  }
 },
 "nbformat": 4,
 "nbformat_minor": 2
}
