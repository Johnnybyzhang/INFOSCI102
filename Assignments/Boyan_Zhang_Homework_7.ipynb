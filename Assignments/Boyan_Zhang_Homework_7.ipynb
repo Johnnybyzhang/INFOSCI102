{
 "cells": [
  {
   "attachments": {},
   "cell_type": "markdown",
   "metadata": {},
   "source": [
    "## Question 1 Bubble Sort\n",
    "\n",
    "Bubble Sort is the simplest sorting algorithm that works by repeatedly swapping the adjacent elements if they are in wrong order. Watch its visualization online (https://visualgo.net/en/sorting) to understand its algorithm. The website also provides a pseudo-code to help you implement the code. Please implement the Python code for Bubble Sort\n",
    "\n",
    "Do not forget writing unit tests for your code\n",
    "\n",
    "### Input Description\n",
    "0 <= len(lst) <= 1000"
   ]
  },
  {
   "cell_type": "code",
   "execution_count": null,
   "metadata": {},
   "outputs": [],
   "source": [
    "# Python program for implementation of Bubble Sort\n",
    "\n",
    "def bubbleSort(lst:\"List[int]\"):\n",
    "## your code \n",
    "  return\n",
    "\n",
    "# Driver code to test above\n",
    "test = [64, 34, 25, 12, 22, 11, 90, 1, 33, 53, 100, 22]\n",
    "bubbleSort(test)\n",
    "assert(test == sorted(test))"
   ]
  },
  {
   "cell_type": "markdown",
   "metadata": {},
   "source": [
    "What are the best and worse cases of Big-O notation for your Bubble Sort algorithm?"
   ]
  },
  {
   "cell_type": "code",
   "execution_count": null,
   "metadata": {},
   "outputs": [],
   "source": [
    "#**your answer**"
   ]
  },
  {
   "attachments": {},
   "cell_type": "markdown",
   "metadata": {},
   "source": [
    "## Question 2\n",
    "\n",
    "Like Merge Sort, QuickSort is a Divide and Conquer algorithm. It picks an element as pivot and partitions the given array around the picked pivot. There are many different versions of quickSort that pick pivot in different ways. \n",
    "\n",
    "* Always pick first element as pivot.\n",
    "* Always pick last element as pivot \n",
    "* Pick a random element as pivot.\n",
    "* Pick median as pivot.\n",
    "\n",
    "Watch its visualization online (https://visualgo.net/en/sorting) to understand its algorithm. The website also provides a pseudo-code to help you implement the code. Please implement the Python code for Quick Sort.\n",
    "\n",
    "### Input Description\n",
    "0 <= len(lst) <= 1000"
   ]
  },
  {
   "cell_type": "code",
   "execution_count": null,
   "metadata": {},
   "outputs": [],
   "source": [
    "# Python program for implementation of Quicksort Sort\n",
    "\n",
    "def quickSort(lst:\"List[int]\", start:int, end:int):\n",
    "  # your code\n",
    "  return\n",
    "\n",
    "\n",
    "# Driver code to test above\n",
    "test = [64, 34, 25, 12, 22, 11, 90, 1, 33, 53, 100, 22]\n",
    "n = len(test)\n",
    "quickSort(test, 0, n-1)\n",
    "print(\"Sorted array is:\")\n",
    "for i in range(n):\n",
    "  print(f\" {test[i]}\")\n"
   ]
  },
  {
   "cell_type": "markdown",
   "metadata": {},
   "source": [
    "3.2 What are the best and worse cases of Big-O notation for your quick sort algorithm?"
   ]
  },
  {
   "cell_type": "code",
   "execution_count": null,
   "metadata": {},
   "outputs": [],
   "source": []
  },
  {
   "cell_type": "markdown",
   "metadata": {},
   "source": [
    "3.3 Complete the following code to compare the time your two algorithms are using by sorting a random list. Which algorithm is faster?"
   ]
  },
  {
   "cell_type": "code",
   "execution_count": null,
   "metadata": {},
   "outputs": [],
   "source": [
    "## complete the code\n",
    "import random\n",
    "#Generate 5,000 random numbers between 1 and 100,000\n",
    "randomlist = random.sample(range(1, 100000), 5000)\n",
    "# print(randomlist)\n",
    "import time\n",
    "start = time.time()\n",
    "## your quick sort code\n",
    "end = time.time()\n",
    "print(f\"Quick sort takes {end - start} seconds to sort the random list.\")\n",
    "\n",
    "start = time.time()\n",
    "## your bubble sort code\n",
    "end = time.time()\n",
    "print(f\"Bubble sort takes {end - start} seconds to sort the random list.\")\n"
   ]
  },
  {
   "cell_type": "markdown",
   "metadata": {},
   "source": [
    "## Question 3 Simple text adventure"
   ]
  },
  {
   "attachments": {},
   "cell_type": "markdown",
   "metadata": {},
   "source": [
    "A text-based game is a completely text-based input-output simple game. In such type of game, users have options to handle various situations as they arrive with choices taken by the user in the form of inputs.\n",
    "\n",
    "Here is an example of a simple text adventure game. In this game, the storyline is fairly simple--by three steps, you can win the game. Following the example by adding at least three more steps to this game. You can modify the existing code or to add completely different code. \n",
    "\n",
    "For this question, you are not required to write tests. But it would be a good practice if can add some. "
   ]
  },
  {
   "cell_type": "code",
   "execution_count": null,
   "metadata": {},
   "outputs": [],
   "source": [
    "# This is designed to be very simple, and to showcase\n",
    "# dictionaries and sets.  In fact, it uses dictionaries\n",
    "# in some ways that would be better-designed using\n",
    "# OOP (object-oriented programming, which we will talk about \n",
    "# in our next class).  We'll revisit this\n",
    "# example and improve upon it when we learn OOP later\n",
    "# this semester.\n",
    "\n",
    "# To win the (rather silly) game:\n",
    "#   get orange\n",
    "#   go east\n",
    "#   feed statue\n",
    "\n",
    "def simpleTextAdventure():\n",
    "    gameState = getInitialGameState()\n",
    "    while not gameState['gameOver']:\n",
    "        currentRoom = getCurrentRoom(gameState)\n",
    "        print(f'I am in {currentRoom[\"description\"]}')\n",
    "        print(f'I am carrying {thingsToString(gameState[\"inventory\"])}')\n",
    "        print(f'I can see {thingsToString(currentRoom[\"contents\"])}')\n",
    "        verb, noun = getCommand()\n",
    "        if (verb == 'go'): doGo(gameState, noun)\n",
    "        elif (verb == 'quit'): print('Goodbye!'); break\n",
    "        elif (verb == 'get'): doGet(gameState, noun)\n",
    "        elif (verb in ['put', 'drop']): doPut(gameState, noun)\n",
    "        elif (verb == 'feed'): doFeed(gameState, noun)\n",
    "\n",
    "def thingsToString(things):\n",
    "    things = sorted(things)\n",
    "    if (len(things) == 0):\n",
    "        return 'nothing'\n",
    "    elif (len(things) == 1):\n",
    "        return thingToString(things[0])\n",
    "    else:\n",
    "        result = ''\n",
    "        for i in range(len(things)):\n",
    "            if (i > 0):\n",
    "                if (i == len(things)-1):\n",
    "                    if (len(things) == 2):\n",
    "                        result += ' and '\n",
    "                    else:\n",
    "                        result += ', and '\n",
    "                else:\n",
    "                    result += ', '\n",
    "            result += thingToString(things[i])\n",
    "        return result\n",
    "\n",
    "def thingToString(thing):\n",
    "    if (thing[-1] == 's'):\n",
    "        return thing\n",
    "    elif (thing[0] in 'aeiou'):\n",
    "        return 'an ' + thing\n",
    "    else:\n",
    "        return 'a ' + thing\n",
    "\n",
    "def doGet(gameState, noun):\n",
    "    currentRoom = getCurrentRoom(gameState)\n",
    "    inventory = gameState['inventory']\n",
    "    contents = currentRoom['contents']\n",
    "    if (noun in contents):\n",
    "        contents.remove(noun)\n",
    "        inventory.add(noun)\n",
    "    else:\n",
    "        print('I cannot see that here.')\n",
    "\n",
    "def doFeed(gameState, noun):\n",
    "    currentRoom = getCurrentRoom(gameState)\n",
    "    inventory = gameState['inventory']\n",
    "    contents = currentRoom['contents']\n",
    "    if (noun != 'statue'):\n",
    "        print('I can only feed statues!')\n",
    "    elif ('statue' not in contents):\n",
    "        print('I do not see the statue here!')\n",
    "    elif ('orange' not in inventory):\n",
    "        print('I need to have food to feed it (like an orange)')\n",
    "    else:\n",
    "        inventory.remove('orange')\n",
    "        print('I fed the statue, and it came alive, and said:')\n",
    "        print('YOU WIN!!!!!!!')\n",
    "        gameState['gameOver'] = True\n",
    "\n",
    "def doPut(gameState, noun):\n",
    "    currentRoom = getCurrentRoom(gameState)\n",
    "    inventory = gameState['inventory']\n",
    "    contents = currentRoom['contents']\n",
    "    if (noun in inventory):\n",
    "        inventory.remove(noun)\n",
    "        contents.add(noun)\n",
    "    else:\n",
    "        print('I am not carrying that.')\n",
    "\n",
    "def doGo(gameState, direction):\n",
    "    currentRoom = getCurrentRoom(gameState)\n",
    "    exits = currentRoom['exits']\n",
    "    if (direction in exits):\n",
    "        gameState['currentRoomName'] = exits[direction]\n",
    "    else:\n",
    "        print(f\"I can't go {direction} from here!\")\n",
    "\n",
    "def getCurrentRoom(gameState):\n",
    "    name = gameState['currentRoomName']\n",
    "    return gameState[name]\n",
    "\n",
    "def getCommand():\n",
    "    while True:\n",
    "        response = input('Your command --> ')\n",
    "        print()\n",
    "        if (response == 'help'):\n",
    "            print('No help yet!')\n",
    "        elif (response in ['quit', 'exit', 'bye']):\n",
    "            return 'quit','now'\n",
    "        else:\n",
    "            words = response.split()\n",
    "            if (len(words) != 2):\n",
    "                print('Please enter commands in the form VERB NOUN')\n",
    "                print('Or just enter \"help\" for more help.')\n",
    "            else:\n",
    "                return words\n",
    "\n",
    "def getInitialGameState():\n",
    "    return {\n",
    "        'gameOver': False,\n",
    "        'currentRoomName' : 'kitchen',\n",
    "        'inventory': { 'whistle' },\n",
    "        'kitchen':\n",
    "            {\n",
    "                'description':'a bright and airy kitchen',\n",
    "                'exits': { 'north':'study', 'east':'porch' },\n",
    "                'contents': { 'plates', 'cup', 'orange' },\n",
    "            },\n",
    "        'study':\n",
    "            {\n",
    "                'description':'a study full of piles and piles of books',\n",
    "                'exits': { 'south':'kitchen' },\n",
    "                'contents': { 'thesaurus', 'dictionary', },\n",
    "            },\n",
    "        'porch':\n",
    "            {\n",
    "                'description':'a huge covered porch with lots of chairs',\n",
    "                'exits': { 'west':'kitchen' },\n",
    "                'contents': { 'statue' },\n",
    "            },\n",
    "    }\n",
    "\n",
    "simpleTextAdventure()"
   ]
  },
  {
   "cell_type": "markdown",
   "metadata": {},
   "source": [
    "HINT: You are allowed to repeat what we have here by slightly modifying the code. "
   ]
  },
  {
   "attachments": {},
   "cell_type": "markdown",
   "metadata": {},
   "source": [
    "## Question 4\n",
    "\n",
    "\n",
    "Without using iteration, write the recursive function `oddCount(L)` which given a possibly-empty list L of integers, returns the number of odd integers in L.\n",
    "\n",
    "### Input Description\n",
    "\n",
    "L is guaranteed to be a list\n"
   ]
  },
  {
   "cell_type": "code",
   "execution_count": null,
   "metadata": {},
   "outputs": [],
   "source": [
    "# your code"
   ]
  },
  {
   "cell_type": "markdown",
   "metadata": {},
   "source": [
    "## Question 5\n",
    "\n",
    "Without using iteration, write the recursive function `oddSum(L)` which given a possibly-empty list L of integers, returns the sum of the odd integers in L. Do not create a new list. Return 0 if the list has no odd integers in it. \n",
    "\n",
    "### Input Description\n",
    "\n",
    "L is guaranteed to be a list"
   ]
  },
  {
   "cell_type": "code",
   "execution_count": null,
   "metadata": {},
   "outputs": [],
   "source": [
    "# your code"
   ]
  },
  {
   "cell_type": "markdown",
   "metadata": {},
   "source": [
    "## Question 6\n",
    "\n",
    "Without using iteration, write the recursive function `oddsOnly(L)` which given a possibly-empty list L of integers, returns a new list containing only the odd integers in L in the same order they appear in L.\n",
    "\n",
    "### Input Description\n",
    "\n",
    "L is guaranteed to be a list"
   ]
  },
  {
   "cell_type": "code",
   "execution_count": null,
   "metadata": {},
   "outputs": [],
   "source": [
    "# your code"
   ]
  },
  {
   "cell_type": "markdown",
   "metadata": {},
   "source": [
    "## Question 7\n",
    "\n",
    "Without using iteration, write the recursive function `maxOdd(L)` which given a possibly-empty list L of integers, returns the largest odd integer in L, or None if L does not contain any odd integers. \n",
    "\n",
    "### Input Description\n",
    "\n",
    "L is guaranteed to be a list"
   ]
  },
  {
   "cell_type": "code",
   "execution_count": null,
   "metadata": {},
   "outputs": [],
   "source": [
    "# your code"
   ]
  },
  {
   "cell_type": "markdown",
   "metadata": {},
   "source": [
    "## Question 8\n",
    "\n",
    "Write the function areaOfPolygon(L) that takes a list of (x,y) points that are guaranteed to be in either clockwise or counter-clockwise order around a polygon, and returns the area of that polygon, as described [here](https://www.mathopenref.com/coordpolygonarea.html). For example (taken from that text), areaOfPolygon([(4,10), (9,7), (11,2), (2,2)]) returns 45.5 (at least the result is almostEqual to 45.5). \n",
    "\n",
    "Here is a sample test function for you:"
   ]
  },
  {
   "cell_type": "code",
   "execution_count": null,
   "metadata": {},
   "outputs": [],
   "source": [
    "def testAreaOfPolygon():\n",
    "    print(\"Testing areaOfPolygon()...\", end=\"\")\n",
    "    assert(almostEqual(areaOfPolygon([(4,10), (9,7), (11,2), (2,2)]), 45.5))\n",
    "    assert(almostEqual(areaOfPolygon([(9,7), (11,2), (2,2), (4, 10)]), 45.5))\n",
    "    assert(almostEqual(areaOfPolygon([(0, 0), (0.5,1), (1,0)]), 0.5))\n",
    "    assert(almostEqual(areaOfPolygon([(0, 10), (0.5,11), (1,10)]), 0.5))\n",
    "    assert(almostEqual(areaOfPolygon([(-0.5, 10), (0,-11), (0.5,10)]), 10.5))\n",
    "    print(\"Passed!\")\n",
    "\n",
    "testAreaOfPolygon()"
   ]
  }
 ],
 "metadata": {
  "kernelspec": {
   "display_name": "Python 3",
   "language": "python",
   "name": "python3"
  },
  "language_info": {
   "codemirror_mode": {
    "name": "ipython",
    "version": 3
   },
   "file_extension": ".py",
   "mimetype": "text/x-python",
   "name": "python",
   "nbconvert_exporter": "python",
   "pygments_lexer": "ipython3",
   "version": "3.9.1"
  }
 },
 "nbformat": 4,
 "nbformat_minor": 4
}
