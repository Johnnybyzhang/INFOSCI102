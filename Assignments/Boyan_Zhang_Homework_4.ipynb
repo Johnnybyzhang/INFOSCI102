{
 "cells": [
  {
   "attachments": {},
   "cell_type": "markdown",
   "metadata": {
    "id": "D6zRFvITIpXH"
   },
   "source": [
    "## Openning Note\n",
    "Hi everyone, \n",
    "\n",
    "Welcome to assignment 4. In this assignment, you are going to do more paractice with python. This assignment will focus on basic operations with list and string. Have fun with it~\n",
    "\n"
   ]
  },
  {
   "attachments": {},
   "cell_type": "markdown",
   "metadata": {},
   "source": [
    "## Question 1\n",
    "\n",
    "Complete the body of total_occurences() which takes two strings s1, s2 and one characters ch. The function should return the total number of occurences of ch in s1 and s2. \n",
    "For example, \n",
    "\n",
    "total_occurences(\"color\", \"yellow\", \"l\") will return 3. As l present once in color and twice in yellow, the total occurences is 2 + 1 = 3.  \n",
    "\n",
    "```\n",
    "def​ total_occurrences(s1: str, s2: str, ch: str) -> int:\n",
    "​ \t    ​\"\"\"Precondition: len(ch) == 1​\n",
    "​ \t\n",
    "​ \t​    Return the total number of times that ch occurs in s1 and s2.​\n",
    "​ \t\n",
    "​ \t​    >>> total_occurrences('color', 'yellow', 'l')​\n",
    "​ \t​    3​\n",
    "​ \t​    >>> total_occurrences('red', 'blue', 'l')​\n",
    "          1\n",
    "​ \t​    >>> total_occurrences('green', 'purple', 'b')​\n",
    "​ \t    0\n",
    "​ \t​    \"\"\"\n",
    "```"
   ]
  },
  {
   "cell_type": "code",
   "execution_count": 1,
   "metadata": {
    "id": "EJKockdnuvqQ"
   },
   "outputs": [],
   "source": [
    "def total_occurrences(s1, s2, ch):\n",
    "    count = 0\n",
    "    for char in s1 + s2:\n",
    "        if char == ch:\n",
    "            count += 1\n",
    "    return count"
   ]
  },
  {
   "cell_type": "code",
   "execution_count": 2,
   "metadata": {},
   "outputs": [
    {
     "name": "stdout",
     "output_type": "stream",
     "text": [
      "All tests PASSED！\n"
     ]
    }
   ],
   "source": [
    "# here are tests for your code\n",
    "def test_total_occurences():\n",
    "    assert(total_occurrences(\"color\", \"yellow\", \"l\") == 3)\n",
    "    assert(total_occurrences(\"\", \"\", \"a\") == 0)\n",
    "    assert(total_occurrences(\"redddd\", \"ddad\", \"d\") == 7)\n",
    "    assert(total_occurrences(\"redddd\", \"ddad\", \"q\") == 0)\n",
    "    assert(total_occurrences(\"redddd\", \"ddad\", \"a\") == 1)\n",
    "    assert(total_occurrences(\"redddd\", \"\", \"d\") == 4)\n",
    "    assert(total_occurrences(\"\", \"ddad\", \"d\") == 3)\n",
    "    print(\"All tests PASSED！\")\n",
    "test_total_occurences()"
   ]
  },
  {
   "attachments": {},
   "cell_type": "markdown",
   "metadata": {
    "id": "sdzxOZhhKC-M"
   },
   "source": [
    "## Question 2\n",
    "In this Question, you are going to be familiar with some commonly used operations on list.\n",
    "\n",
    "Variable ids refers to the list [4353, 2314, 2956, 3382, 9362, 3900]. Using list methods, do the following:\n",
    "\n",
    "1. Remove 3382 from the list.\n",
    "2. Get the index of 9362.\n",
    "3. Insert 4499 in the list after 9362.\n",
    "4. Extend the list by adding [5566, 1830] to it.\n",
    "5. Reverse the list.\n",
    "6. Sort the list."
   ]
  },
  {
   "cell_type": "code",
   "execution_count": 7,
   "metadata": {
    "id": "7a2-CwEdu07u"
   },
   "outputs": [],
   "source": [
    "ids =  [4353, 2314, 2956, 3382, 9362, 3900]\n",
    "\n",
    "## your code\n",
    "# 1\n",
    "ids.remove(3382)\n",
    "# 2\n",
    "ids.index(9362)\n",
    "# 3\n",
    "ids.insert(ids.index(9362) + 1, 4499)\n",
    "# 4\n",
    "ids.extend([5566, 1830])\n",
    "# 5\n",
    "ids.reverse()\n",
    "# 6\n",
    "ids.sort()"
   ]
  },
  {
   "attachments": {},
   "cell_type": "markdown",
   "metadata": {
    "id": "cWhOA7-nL_vo"
   },
   "source": [
    "## Question 3\n",
    "\n",
    "Complete the body of same_first_last() which takes a list as an argument and return if the first and last element of the list are the same.  \n",
    "\n",
    "For example, \n",
    "\n",
    "same_first_last([2, 3, 5, 7, 11, 2]) will return True, as the first and last elements are both 2. \n",
    "\n",
    "```\n",
    "\t​def​ same_first_last(L: list) -> bool:\n",
    "​ \t    ​\"\"\"Precondition: len(L) >= 2​\n",
    "​ \t\n",
    "​ \t​    Return True if and only if first item of the list is the same as the​\n",
    "​ \t​    last.​\n",
    "​ \t\n",
    "​ \t​    >>> same_first_last([3, 4, 2, 8, 3])​\n",
    "​ \t​    True​\n",
    "​ \t​    >>> same_first_last(['apple', 'banana', 'pear'])​\n",
    "​         False\n",
    "​ \t​    >>> same_first_last([4.0, 4.5])​\n",
    "​ \t    False\n",
    "​ \t​    \"\"\"\n",
    "```\n",
    "\n"
   ]
  },
  {
   "cell_type": "code",
   "execution_count": null,
   "metadata": {
    "id": "o4H6N992vBPu"
   },
   "outputs": [],
   "source": [
    "def same_first_last(L):\n",
    "    ## your code\n",
    "    return False"
   ]
  },
  {
   "cell_type": "code",
   "execution_count": null,
   "metadata": {},
   "outputs": [],
   "source": [
    "def test_same_first_last():\n",
    "    assert(same_first_last([1, 1]) == True)\n",
    "    assert(same_first_last([\"apple\", \"pear\"]) == False)\n",
    "    assert(same_first_last([7, 5, 4, 3, 2, 1, 7]) == True)\n",
    "    print(\"All tests PASSED！\")\n",
    "test_same_first_last()"
   ]
  },
  {
   "attachments": {},
   "cell_type": "markdown",
   "metadata": {
    "id": "9VtQJMqOM08u"
   },
   "source": [
    "## Question 4\n",
    "\n",
    "Complete the body is_longer(L1: list, L2: list) -> bool. The function should return True if the first list is longer than the second list. \n",
    "\n",
    "\n",
    "\n",
    "```\n",
    "\t​def​ is_longer(L1: list, L2: list) -> bool:\n",
    "​ \t    ​\"\"\"Return True if and only if the length of L1 is longer than the length​\n",
    "​ \t​    of L2.​\n",
    "​ \t\n",
    "​ \t​    >>> is_longer([1, 2, 3], [4, 5])​\n",
    "​ \t​    True\n",
    "```\n",
    "\n"
   ]
  },
  {
   "cell_type": "code",
   "execution_count": null,
   "metadata": {
    "id": "REPhq6hnvHVG"
   },
   "outputs": [],
   "source": [
    "def is_longer(L1, L2):\n",
    "    ## your code\n",
    "    return False"
   ]
  },
  {
   "cell_type": "code",
   "execution_count": null,
   "metadata": {},
   "outputs": [],
   "source": [
    "def test_is_longer():\n",
    "    assert(is_longer([], [1, 2]) == False)\n",
    "    assert(is_longer([1, 2], []) == True)\n",
    "    assert(is_longer([2, 2], [2, 2]) == False)\n",
    "    assert(is_longer([1, 2], [3]) == True)\n",
    "    assert(is_longer([1], [3, 2]) == False)\n",
    "    print(\"All tests PASSED\")\n",
    "test_is_longer()"
   ]
  },
  {
   "cell_type": "markdown",
   "metadata": {
    "id": "hS1_z5HwWkkZ"
   },
   "source": [
    "## Question 5\n",
    "\n",
    "The following function doesn’t have annotations or comments. Write them to make it easy for another programmer to understand what the function does and how.\n"
   ]
  },
  {
   "cell_type": "code",
   "execution_count": null,
   "metadata": {
    "id": "Spq5An5XvRV2"
   },
   "outputs": [],
   "source": [
    "def mystery_function(values):\n",
    "  '''\n",
    "  what does this function do? Add your descriptions.\n",
    "  '''\n",
    "  result = []  ## what is this\n",
    "  for sublist in values:\n",
    "    result.append([sublist[0]])  ## what is this\n",
    "    for i in sublist[1:]:\n",
    "      result[-1].insert(0, i)  ## what is this\n",
    "  \n",
    "  return result  ## what gets returned?"
   ]
  },
  {
   "cell_type": "markdown",
   "metadata": {
    "id": "oN-7GaaxXOAy"
   },
   "source": [
    "## Question 6\n",
    "\n",
    "You are given two lists, rat_1 and rat_2, that contain the daily weights of two rats over a period of ten days. Assume the rats never have exactly the same weight. Write statements to do the following:\n",
    "\n",
    "1. If the weight of rat 1 is greater than that of rat 2 on day 1, print \"Rat 1 weighed more than rat 2 on day 1.\"; otherwise, print \"Rat 1 weighed less than rat 2 on day 1.\"\n",
    "\n"
   ]
  },
  {
   "cell_type": "code",
   "execution_count": null,
   "metadata": {
    "id": "gJmKW9OavkFl"
   },
   "outputs": [],
   "source": [
    "rat_1 = [1, 2, 3, 4, 5, 6]\n",
    "rat_2 = [4, 5, 6, 7, 8, 9]\n",
    "\n",
    "## your code"
   ]
  },
  {
   "cell_type": "markdown",
   "metadata": {
    "id": "s98QZ1PAXZBL"
   },
   "source": [
    "2. If rat 1 weighed more than rat 2 on day 1 and if rat 1 weighs more than rat 2 on the last day, print \"Rat 1 remained heavier than Rat 2.\"; otherwise, print \"Rat 2 became heavier than Rat 1.\""
   ]
  },
  {
   "cell_type": "code",
   "execution_count": null,
   "metadata": {
    "id": "1V4RG1nyvmOu"
   },
   "outputs": [],
   "source": [
    "## your code"
   ]
  },
  {
   "cell_type": "markdown",
   "metadata": {
    "id": "w5XBTqIsXcgo"
   },
   "source": [
    "3. If your solution to the previous exercise used nested if statements, then do it without nesting, or vice versa."
   ]
  },
  {
   "cell_type": "code",
   "execution_count": null,
   "metadata": {
    "id": "k78azr6Fvxf3"
   },
   "outputs": [],
   "source": [
    "## your code "
   ]
  },
  {
   "attachments": {},
   "cell_type": "markdown",
   "metadata": {
    "id": "71gMM--ZZbMQ"
   },
   "source": [
    "## Question 7\n",
    "Consider this code:\n",
    "\n",
    "\n",
    "```\n",
    "from typing import List\n",
    " \t\n",
    "def remove_neg(num_list: List[float]) -> None:\n",
    " \t\"\"\"Remove the negative numbers from the list num_list inplace, return nothing.\n",
    " \t\n",
    " \t >>> numbers = [-5, 1, -3, 2]\n",
    " \t >>> remove_neg(numbers)\n",
    " \t >>> numbers\n",
    " \t    [1, 2]\n",
    " \t\"\"\"\n",
    " \t\n",
    " \tfor item in num_list:\n",
    " \t    if item < 0:\n",
    " \t        num_list.remove(item)\n",
    "```\n",
    "\n",
    "When remove_neg([1, 2, 3, -3, 6, -1, -3, 1]) is executed, it produces [1, 2, 3, 6, -3, 1]. The for loop traverses the elements of the list, and when a negative value (like -3 at position 3) is reached, it is removed, shifting the subsequent values one position earlier in the list (so 6 moves into position 3). The loop then continues on to process the next item, skipping over the value that moved into the removed item’s position. If there are two negative numbers in a row (like -1 and -3), then the second one won’t be removed.\n",
    "\n",
    "Rewrite the code to avoid this problem.\n",
    "\n",
    "Hints: You may find they keyword `del` useful. Use it with index to properly remove all negative elements. \n",
    "\n",
    "Here is an example of using `del`"
   ]
  },
  {
   "cell_type": "code",
   "execution_count": null,
   "metadata": {},
   "outputs": [],
   "source": [
    "tempLst = [21, 24, 56, 77, 22]\n",
    "del tempLst[1] # it will remove 24\n",
    "print(tempLst) # become [21, 56, 77, 22]\n",
    "del tempLst[2] # it will remove 77\n",
    "print(tempLst) # become [21, 56, 22]"
   ]
  },
  {
   "cell_type": "code",
   "execution_count": null,
   "metadata": {
    "id": "Atg-qC7Nv4OV"
   },
   "outputs": [],
   "source": [
    "def remove_neg(num_list):\n",
    "    # your code here\n",
    "    return \n"
   ]
  },
  {
   "cell_type": "code",
   "execution_count": null,
   "metadata": {},
   "outputs": [],
   "source": [
    "def test_one_case(lst, expect):\n",
    "    remove_neg(lst)\n",
    "    assert(lst == expect)\n",
    "\n",
    "def test_remove_neg():\n",
    "    test_one_case([-1, -2, -3, -4], [])\n",
    "    test_one_case([-1, 2, -3, -5], [2])\n",
    "    test_one_case([1, 3, 5, 7, 9], [1, 3, 5, 7, 9])\n",
    "    test_one_case([-1, 3, 5, 7, 9], [3, 5, 7, 9])\n",
    "    test_one_case([1, 3, 5, 7, -9], [1, 3, 5, 7])\n",
    "    test_one_case([-5], [])\n",
    "    print(\"ALL tests PASSED\")\n",
    "test_remove_neg()"
   ]
  },
  {
   "cell_type": "markdown",
   "metadata": {
    "id": "0AgNhannadQ2"
   },
   "source": [
    "## Question 8\n",
    "\n",
    "1. Using nested for loops, print a right triangle of the character T on the screen where the triangle is one character wide at its narrowest point and seven characters wide at its widest point:\n",
    "\n",
    "\n",
    "```\n",
    "T\n",
    "TT\n",
    "TTT\n",
    "TTTT\n",
    "TTTTT\n",
    "TTTTTT\n",
    "TTTTTTT\n",
    "```\n",
    "\n"
   ]
  },
  {
   "cell_type": "code",
   "execution_count": null,
   "metadata": {
    "id": "il4FVw9twSV-"
   },
   "outputs": [],
   "source": [
    "## your code that can print the T on the screen shaped as above"
   ]
  },
  {
   "cell_type": "markdown",
   "metadata": {
    "id": "GPNblccPa5v2"
   },
   "source": [
    "2. How about printing the triangle described in the previous exercise with its hypotenuse on the left side:\n",
    "\n",
    "\n",
    "\n",
    "```\n",
    " \t      T\n",
    " \t     TT\n",
    " \t    TTT\n",
    " \t   TTTT\n",
    " \t  TTTTT\n",
    " \t TTTTTT\n",
    " \tTTTTTTT\n",
    "```\n",
    "\n"
   ]
  },
  {
   "cell_type": "code",
   "execution_count": null,
   "metadata": {
    "id": "WzNqvwvmwasO"
   },
   "outputs": [],
   "source": [
    "## your code that can print the T on the screen shaped as above"
   ]
  },
  {
   "attachments": {},
   "cell_type": "markdown",
   "metadata": {},
   "source": [
    "## A Note of A Challenge\n",
    "Congradulations! You've finished most of the questions in this homework. I am here to notify you a good news and a bad news. \n",
    "\n",
    "The good news is that the next questions is the last question of this assignment (Hooray!!)\n",
    "\n",
    "The bad news is that the next question would be the hardest question you ever met yet in this course. \n",
    "\n",
    "I expect this question to take you 0.5 - 1.5 hours depends on your past coding experience. I know it is hard. But this is only way make you a good programmer. Use everything you learned from the course to solve this problem, loops, flow control, string, lists, etc. \n",
    "\n",
    "Good Luck~\n"
   ]
  },
  {
   "attachments": {},
   "cell_type": "markdown",
   "metadata": {},
   "source": [
    "## Question 9\n",
    "### String Artist\n",
    "\n",
    "In this question, you are going to be a string artist, writing programs to create a fancy W,\n",
    "\n",
    "Here is the string your function are going to return. \n",
    "```{python}\n",
    "\"\"\"\n",
    ". . R . . . R . . . R . . \n",
    ". R 0 R . R 0 R . R 0 R . \n",
    "R 0 0 0 R 0 0 0 R 0 0 0 R \n",
    ". R 0 R 0 R 0 R 0 R 0 R . \n",
    ". . R 0 0 0 R 0 0 0 R . . \n",
    ". . . R 0 R . R 0 R . . . \n",
    ". . . . R . . . R . . . . \n",
    "\n",
    "\"\"\"\n",
    "```\n",
    "Looks complicated right? While if you observe this output carefully. You can realize that this fancy W consist nothing but some overlapping diamonds looks like this\n",
    "\n",
    "```{python}\n",
    "\"\"\"\n",
    ". . R . . \n",
    ". R 0 R .\n",
    "R 0 0 0 R\n",
    ". R 0 R .\n",
    ". . R . .\n",
    "\"\"\"\n",
    "```\n",
    "\n",
    "Finish function drawStringArt(boart) which takes an empty board represented by a 7 (height) * 13 (width) nested list (nested list contains only \".\"). Here is an example of a 3 * 3 empty board\n",
    "```{python}\n",
    "\"\"\"\n",
    "[[\".\", \".\", \".\"],\n",
    " [\".\", \".\", \".\"],\n",
    " [\".\", \".\", \".\"]\n",
    "]\n",
    "\"\"\"\n",
    "```\n",
    "We provides you a function to help you convert the nested list to a string. Feel free to use it in your implementation. The function takes a nested list contains only strings and return the converted string. \n",
    "\n",
    "Here is an example,\n",
    "\n",
    "\n"
   ]
  },
  {
   "cell_type": "code",
   "execution_count": null,
   "metadata": {},
   "outputs": [],
   "source": [
    "def makeBoard(board):\n",
    "    s = \"\\n\"\n",
    "    for row in board:\n",
    "        s += \" \".join(row) + \"\\n\"\n",
    "    return s\n",
    "print(makeBoard([[\".\", \".\", \".\"], [\".\", \".\", \".\"], [\".\", \".\", \".\"]]))"
   ]
  },
  {
   "cell_type": "code",
   "execution_count": null,
   "metadata": {},
   "outputs": [],
   "source": [
    "def drawStringArt(board):\n",
    "    # your code here\n",
    "    \n",
    "    return makeBoard(board)"
   ]
  },
  {
   "cell_type": "code",
   "execution_count": null,
   "metadata": {},
   "outputs": [],
   "source": [
    "# use this code to test your result\n",
    "board = [[\".\"] * 13 for _ in range(7)]\n",
    "assert(drawStringArt(board) == \n",
    "\"\"\"\n",
    ". . R . . . R . . . R . .\n",
    ". R 0 R . R 0 R . R 0 R .\n",
    "R 0 0 0 R 0 0 0 R 0 0 0 R\n",
    ". R 0 R 0 R 0 R 0 R 0 R .\n",
    ". . R 0 0 0 R 0 0 0 R . .\n",
    ". . . R 0 R . R 0 R . . .\n",
    ". . . . R . . . R . . . .\n",
    "\"\"\")"
   ]
  }
 ],
 "metadata": {
  "colab": {
   "collapsed_sections": [],
   "name": "homework4_without_solutions.ipynb",
   "provenance": []
  },
  "kernelspec": {
   "display_name": "Python 3",
   "language": "python",
   "name": "python3"
  },
  "language_info": {
   "codemirror_mode": {
    "name": "ipython",
    "version": 3
   },
   "file_extension": ".py",
   "mimetype": "text/x-python",
   "name": "python",
   "nbconvert_exporter": "python",
   "pygments_lexer": "ipython3",
   "version": "3.10.13"
  }
 },
 "nbformat": 4,
 "nbformat_minor": 1
}
