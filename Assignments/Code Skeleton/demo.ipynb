{
 "cells": [
  {
   "cell_type": "code",
   "execution_count": 10,
   "metadata": {},
   "outputs": [],
   "source": [
    "def print2DList(list):\n",
    "    for line in list:\n",
    "        for elem in line:\n",
    "            print (elem, end=\" \")\n",
    "        print ()"
   ]
  },
  {
   "cell_type": "code",
   "execution_count": null,
   "metadata": {},
   "outputs": [],
   "source": [
    "from Block import Block\n",
    "for i in range(7):\n",
    "    block = Block(type=i)\n",
    "    for _ in range(4):\n",
    "        print2DList (block.getShape())\n",
    "        block.rotateLeft()\n",
    "    print (\"\\n\")"
   ]
  },
  {
   "cell_type": "code",
   "execution_count": 1,
   "metadata": {},
   "outputs": [],
   "source": [
    "from Board import Board\n",
    "board = Board(width=10, hight=20)\n"
   ]
  },
  {
   "cell_type": "code",
   "execution_count": 134,
   "metadata": {},
   "outputs": [],
   "source": [
    "board.tryMoveDown()"
   ]
  },
  {
   "cell_type": "code",
   "execution_count": 84,
   "metadata": {},
   "outputs": [],
   "source": [
    "board.tryMoveRight()"
   ]
  },
  {
   "cell_type": "code",
   "execution_count": 38,
   "metadata": {},
   "outputs": [],
   "source": [
    "board.tryMoveLeft()"
   ]
  },
  {
   "cell_type": "code",
   "execution_count": 119,
   "metadata": {},
   "outputs": [],
   "source": [
    "board.tryRotate()"
   ]
  },
  {
   "cell_type": "code",
   "execution_count": 3,
   "metadata": {},
   "outputs": [],
   "source": [
    "board.tryHardDrop()"
   ]
  },
  {
   "cell_type": "code",
   "execution_count": 135,
   "metadata": {},
   "outputs": [],
   "source": [
    "board.dump()"
   ]
  },
  {
   "cell_type": "code",
   "execution_count": 138,
   "metadata": {},
   "outputs": [],
   "source": [
    "board.putNewBlock()"
   ]
  },
  {
   "cell_type": "code",
   "execution_count": 89,
   "metadata": {},
   "outputs": [
    {
     "data": {
      "text/plain": [
       "[[0, 0, 0, 0, 0, 0, 0, 0, 0, 0],\n",
       " [0, 0, 0, 0, 0, 0, 0, 0, 0, 0],\n",
       " [0, 0, 0, 0, 0, 0, 0, 0, 0, 0],\n",
       " [0, 0, 0, 0, 0, 0, 0, 0, 0, 0],\n",
       " [0, 0, 0, 0, 0, 0, 0, 0, 0, 0],\n",
       " [0, 0, 0, 0, 0, 0, 0, 0, 0, 0],\n",
       " [0, 0, 0, 0, 0, 0, 0, 0, 0, 0],\n",
       " [0, 0, 0, 0, 0, 0, 0, 0, 0, 0],\n",
       " [0, 0, 0, 0, 0, 0, 0, 0, 0, 0],\n",
       " [0, 0, 0, 0, 0, 0, 0, 0, 0, 0],\n",
       " [0, 0, 0, 0, 0, 0, 0, 0, 0, 0],\n",
       " [0, 0, 0, 0, 0, 0, 0, 0, 0, 0],\n",
       " [0, 0, 0, 0, 0, 0, 0, 0, 0, 0],\n",
       " [0, 0, 0, 0, 0, 0, 0, 0, 0, 0],\n",
       " [0, 0, 0, 0, 0, 0, 0, 0, 0, 0],\n",
       " [0, 0, 0, 0, 0, 0, 0, 0, 0, 0],\n",
       " [0, 0, 0, 0, 0, 0, 0, 0, 0, 0],\n",
       " [0, 0, 1, 0, 0, 0, 0, 0, 0, 0],\n",
       " [0, 1, 1, 1, 0, 1, 1, 0, 0, 0],\n",
       " [1, 1, 1, 1, 0, 1, 1, 0, 0, 0]]"
      ]
     },
     "execution_count": 89,
     "metadata": {},
     "output_type": "execute_result"
    }
   ],
   "source": [
    "board.board"
   ]
  },
  {
   "cell_type": "code",
   "execution_count": 4,
   "metadata": {},
   "outputs": [
    {
     "name": "stdout",
     "output_type": "stream",
     "text": [
      "__________\n",
      "__________\n",
      "__________\n",
      "__________\n",
      "__________\n",
      "__________\n",
      "__________\n",
      "__________\n",
      "__________\n",
      "__________\n",
      "__________\n",
      "__________\n",
      "__________\n",
      "__________\n",
      "__________\n",
      "__________\n",
      "X_________\n",
      "X_________\n",
      "X_________\n",
      "X_________\n",
      "\n"
     ]
    }
   ],
   "source": [
    "print(board.toString())"
   ]
  },
  {
   "cell_type": "code",
   "execution_count": 140,
   "metadata": {},
   "outputs": [
    {
     "data": {
      "text/plain": [
       "2"
      ]
     },
     "execution_count": 140,
     "metadata": {},
     "output_type": "execute_result"
    }
   ],
   "source": [
    "board.curBlock.type"
   ]
  },
  {
   "cell_type": "code",
   "execution_count": 14,
   "metadata": {},
   "outputs": [],
   "source": [
    "grid_start = (352, 317)\n",
    "grid_end = (512, 1072)\n",
    "rows = 4\n",
    "lines = 19\n",
    "\n",
    "import math\n",
    "\n",
    "# Calculate block centers in the grid\n",
    "block_width = (grid_end[0] - grid_start[0]) // rows\n",
    "block_height = (grid_end[1] - grid_start[1]) // lines\n",
    "block_centers = [\n",
    "    [(math.floor(grid_start[0] + block_width * (j + 0.5)), math.floor(grid_start[1] + block_height * (i + 0.5)))\n",
    "    for i in range(lines)]\n",
    "    for j in range(rows)\n",
    "]"
   ]
  },
  {
   "cell_type": "code",
   "execution_count": 15,
   "metadata": {},
   "outputs": [
    {
     "data": {
      "text/plain": [
       "[[(372, 336),\n",
       "  (372, 375),\n",
       "  (372, 414),\n",
       "  (372, 453),\n",
       "  (372, 492),\n",
       "  (372, 531),\n",
       "  (372, 570),\n",
       "  (372, 609),\n",
       "  (372, 648),\n",
       "  (372, 687),\n",
       "  (372, 726),\n",
       "  (372, 765),\n",
       "  (372, 804),\n",
       "  (372, 843),\n",
       "  (372, 882),\n",
       "  (372, 921),\n",
       "  (372, 960),\n",
       "  (372, 999),\n",
       "  (372, 1038)],\n",
       " [(412, 336),\n",
       "  (412, 375),\n",
       "  (412, 414),\n",
       "  (412, 453),\n",
       "  (412, 492),\n",
       "  (412, 531),\n",
       "  (412, 570),\n",
       "  (412, 609),\n",
       "  (412, 648),\n",
       "  (412, 687),\n",
       "  (412, 726),\n",
       "  (412, 765),\n",
       "  (412, 804),\n",
       "  (412, 843),\n",
       "  (412, 882),\n",
       "  (412, 921),\n",
       "  (412, 960),\n",
       "  (412, 999),\n",
       "  (412, 1038)],\n",
       " [(452, 336),\n",
       "  (452, 375),\n",
       "  (452, 414),\n",
       "  (452, 453),\n",
       "  (452, 492),\n",
       "  (452, 531),\n",
       "  (452, 570),\n",
       "  (452, 609),\n",
       "  (452, 648),\n",
       "  (452, 687),\n",
       "  (452, 726),\n",
       "  (452, 765),\n",
       "  (452, 804),\n",
       "  (452, 843),\n",
       "  (452, 882),\n",
       "  (452, 921),\n",
       "  (452, 960),\n",
       "  (452, 999),\n",
       "  (452, 1038)],\n",
       " [(492, 336),\n",
       "  (492, 375),\n",
       "  (492, 414),\n",
       "  (492, 453),\n",
       "  (492, 492),\n",
       "  (492, 531),\n",
       "  (492, 570),\n",
       "  (492, 609),\n",
       "  (492, 648),\n",
       "  (492, 687),\n",
       "  (492, 726),\n",
       "  (492, 765),\n",
       "  (492, 804),\n",
       "  (492, 843),\n",
       "  (492, 882),\n",
       "  (492, 921),\n",
       "  (492, 960),\n",
       "  (492, 999),\n",
       "  (492, 1038)]]"
      ]
     },
     "execution_count": 15,
     "metadata": {},
     "output_type": "execute_result"
    }
   ],
   "source": [
    "block_centers"
   ]
  }
 ],
 "metadata": {
  "kernelspec": {
   "display_name": "Python 3",
   "language": "python",
   "name": "python3"
  },
  "language_info": {
   "codemirror_mode": {
    "name": "ipython",
    "version": 3
   },
   "file_extension": ".py",
   "mimetype": "text/x-python",
   "name": "python",
   "nbconvert_exporter": "python",
   "pygments_lexer": "ipython3",
   "version": "3.10.13"
  }
 },
 "nbformat": 4,
 "nbformat_minor": 2
}
