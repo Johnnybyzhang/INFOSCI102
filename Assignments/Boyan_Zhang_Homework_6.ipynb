{
 "cells": [
  {
   "cell_type": "markdown",
   "metadata": {
    "id": "UGYHcJPjpDr3"
   },
   "source": [
    "## Question 1\n",
    "\n",
    "a. How many steps would a binary search take to locate the value \"o\" in the list of 11 elements:\n",
    "\n",
    "[\"a\", \"c\", \"d\", \"g\", \"h\", \"m\", \"o\", \"p\", \"t\", \"x\", \"z\"]."
   ]
  },
  {
   "cell_type": "markdown",
   "metadata": {
    "id": "SAw7J1--sMpi"
   },
   "source": [
    "your answer?"
   ]
  },
  {
   "cell_type": "code",
   "execution_count": null,
   "metadata": {},
   "outputs": [],
   "source": [
    "## 3"
   ]
  },
  {
   "cell_type": "markdown",
   "metadata": {
    "id": "1GqYCbGesCSf"
   },
   "source": [
    "b. Suppose that you have a budget of 6 comparisons for searching an element in a sorted list. That is, your search would terminate after doing at most 6 comparisons, and return the item's index if it is in the list and None otherwise. With this budget, what is the size of the largest sorted list that you could search using binary search?"
   ]
  },
  {
   "cell_type": "markdown",
   "metadata": {
    "id": "HC9Fn148SfC6"
   },
   "source": [
    "your answer? HINT: if you have a budget of 2 comparisons, the size of the largest sorted list is 3"
   ]
  },
  {
   "cell_type": "code",
   "execution_count": null,
   "metadata": {},
   "outputs": [],
   "source": [
    "## 63"
   ]
  },
  {
   "cell_type": "markdown",
   "metadata": {
    "id": "6wdvRP_V0KPG"
   },
   "source": [
    "## Question 2\n",
    "\n",
    "A DNA sequence is a string made up of the letters A, T, G, and C. To find the complement of a DNA sequence, As are replaced by Ts, Ts by As, Gs by Cs, and Cs by Gs. For example, the complement of AATTGCCGT is TTAACGGCA.\n",
    "\n",
    "Write a function named complement that takes a DNA sequence (a str) and returns the complement of it."
   ]
  },
  {
   "cell_type": "code",
   "execution_count": 1,
   "metadata": {
    "id": "I9c060nH1E7C"
   },
   "outputs": [],
   "source": [
    "def complement(sequence):\n",
    "  \"\"\" (str) -> str\n",
    "  Return the complement of sequence.\n",
    "  \"\"\"\n",
    "  complement_map = {'A': 'T', 'T': 'A', 'G': 'C', 'C': 'G'}\n",
    "  return ''.join(complement_map[nucleotide] for nucleotide in sequence)\n",
    "  "
   ]
  },
  {
   "cell_type": "code",
   "execution_count": 2,
   "metadata": {
    "id": "7YT8XCoz1G67"
   },
   "outputs": [
    {
     "data": {
      "text/plain": [
       "'TTAACGGCAG'"
      ]
     },
     "execution_count": 2,
     "metadata": {},
     "output_type": "execute_result"
    }
   ],
   "source": [
    "complement('AATTGCCGTC') # print 'TTAACGGCAG'"
   ]
  },
  {
   "cell_type": "markdown",
   "metadata": {
    "id": "KrHzd-R7SfC_"
   },
   "source": [
    "## Question 3\n",
    "\n",
    "In this exercise, you’ll develop a function that finds the minimum or maximum value in a list, depending on the caller’s request."
   ]
  },
  {
   "cell_type": "markdown",
   "metadata": {
    "id": "8U7CkskgSfDA"
   },
   "source": [
    "a. Write a loop (including initialization) to find both the minimum value in a list and that value’s index in one pass through the list."
   ]
  },
  {
   "cell_type": "code",
   "execution_count": 3,
   "metadata": {
    "id": "gnwXcH7fSfDA"
   },
   "outputs": [
    {
     "name": "stdout",
     "output_type": "stream",
     "text": [
      "1\n"
     ]
    }
   ],
   "source": [
    "L = [10, 3, 7, 1, 6, 5, 4, 3, 2]\n",
    "\n",
    "smallest = L[0]\n",
    "smallest_index = 0\n",
    "\n",
    "for i in range(1, len(L)):\n",
    "    if L[i] < smallest:\n",
    "        smallest = L[i]\n",
    "        smallest_index = i\n",
    "print(smallest) ## print 1"
   ]
  },
  {
   "cell_type": "markdown",
   "metadata": {
    "id": "MayXDZCMSfDB"
   },
   "source": [
    "b. Write a function named min_index that takes one parameter (a list) and returns a tuple containing the minimum value in the list and that value’s index in the list."
   ]
  },
  {
   "cell_type": "code",
   "execution_count": 4,
   "metadata": {
    "id": "VgcxozJhSfDB"
   },
   "outputs": [
    {
     "data": {
      "text/plain": [
       "(1, 6)"
      ]
     },
     "execution_count": 4,
     "metadata": {},
     "output_type": "execute_result"
    }
   ],
   "source": [
    "def min_index(L):\n",
    "    \"\"\" (list) -> (object, int)\n",
    "    \"\"\"\n",
    "    ## your code\n",
    "    if not L:\n",
    "        return None, None  # Handle empty list case\n",
    "\n",
    "    smallest = L[0]\n",
    "    smallest_index = 0\n",
    "\n",
    "    for i in range(1, len(L)):\n",
    "        if L[i] < smallest:\n",
    "            smallest = L[i]\n",
    "            smallest_index = i\n",
    "\n",
    "    return smallest, smallest_index\n",
    "min_index([4, 3, 2, 4, 3, 6, 1, 5])  ## get (1, 6)"
   ]
  },
  {
   "cell_type": "markdown",
   "metadata": {
    "id": "Md5VUgslSfDC"
   },
   "source": [
    "c. You might also want to find the maximum value and its index. Write a function named min_or_max_index that has two parameters: a list and a bool. If the Boolean parameter refers to True, the function returns a tuple containing the minimum and its index; if it refers to False, it returns a tuple containing the maximum and its index."
   ]
  },
  {
   "cell_type": "code",
   "execution_count": 5,
   "metadata": {
    "id": "hcdtel0eSfDC"
   },
   "outputs": [],
   "source": [
    "def min_or_max_index(L, flag):\n",
    "    \"\"\" (list, bool) -> tuple of (object, int)\n",
    "    Return the minimum or maximum item and its index from L, depending on whether flag is True or False.\n",
    "    >>> min_or_max_index([4, 3, 2, 4, 3, 6, 1, 5], True)\n",
    "    (1, 6)\n",
    "    >>> min_or_max_index([4, 3, 2, 4, 3, 6, 1, 5], False)\n",
    "    (6, 5)\n",
    "    \"\"\"\n",
    "    if not L:\n",
    "        return None, None  # Handle empty list case\n",
    "\n",
    "    result = L[0]\n",
    "    result_index = 0\n",
    "\n",
    "    for i in range(1, len(L)):\n",
    "        if (flag and L[i] < result) or (not flag and L[i] > result):\n",
    "            result = L[i]\n",
    "            result_index = i\n",
    "\n",
    "    return result, result_index"
   ]
  },
  {
   "cell_type": "code",
   "execution_count": 6,
   "metadata": {
    "id": "cMSlOw0pSfDD"
   },
   "outputs": [
    {
     "data": {
      "text/plain": [
       "(1, 6)"
      ]
     },
     "execution_count": 6,
     "metadata": {},
     "output_type": "execute_result"
    }
   ],
   "source": [
    "min_or_max_index([4, 3, 2, 4, 3, 6, 1, 5], True) # (1,6)"
   ]
  },
  {
   "cell_type": "code",
   "execution_count": 7,
   "metadata": {
    "id": "IdIp-0qZSfDD"
   },
   "outputs": [
    {
     "data": {
      "text/plain": [
       "(6, 5)"
      ]
     },
     "execution_count": 7,
     "metadata": {},
     "output_type": "execute_result"
    }
   ],
   "source": [
    "min_or_max_index([4, 3, 2, 4, 3, 6, 1, 5], False) # (6,5)"
   ]
  },
  {
   "cell_type": "markdown",
   "metadata": {
    "id": "sXAtCNuNSfDD"
   },
   "source": [
    "## Question 4\n",
    "\n",
    "Edsgar Dijkstra is known for his work on programming languages. He came up with a neat problem that he called the Dutch National Flag problem: given a list of strings, each of which is either ’red’, ’green’, or ’blue’ (each is repeated several times in the list), rearrange the list so that the strings are in the order of the Dutch national flag—all the ’red’ strings first, then all the ’green’ strings, then all the ’blue’ strings.\n",
    "\n",
    "Write a function called dutch_flag that takes a list and solves this problem."
   ]
  },
  {
   "cell_type": "code",
   "execution_count": 8,
   "metadata": {
    "id": "lJsvtf44SfDE"
   },
   "outputs": [],
   "source": [
    "def dutch_flag(color_list):\n",
    "    \"\"\" (list of str) -> list of str\n",
    "    Return color_list rearranged so that 'red' strings come first, 'green' second, and 'blue' third.\n",
    "    \"\"\"\n",
    "    # your code\n",
    "    red_count = color_list.count('red')\n",
    "    green_count = color_list.count('green')\n",
    "    blue_count = color_list.count('blue')\n",
    "\n",
    "    return ['red'] * red_count + ['green'] * green_count + ['blue'] * blue_count"
   ]
  },
  {
   "cell_type": "code",
   "execution_count": 9,
   "metadata": {
    "id": "zTgdUBdQSfDE"
   },
   "outputs": [
    {
     "name": "stdout",
     "output_type": "stream",
     "text": [
      "['red', 'red', 'red', 'red', 'green', 'green', 'blue', 'blue']\n"
     ]
    }
   ],
   "source": [
    "color_list = ['red', 'green', 'blue', 'red', 'red', 'blue', 'red', 'green']\n",
    "print(dutch_flag(color_list)) # ['red', 'red', 'red', 'red', 'green', 'green', 'blue', 'blue']"
   ]
  },
  {
   "cell_type": "markdown",
   "metadata": {
    "id": "IQ2Nezg5SfDF"
   },
   "source": [
    "## Question 5 Calculate the Big-O of Code\n",
    "\n",
    "Predict the Big-O runtime of the following piece of code.\n",
    "\n"
   ]
  },
  {
   "cell_type": "code",
   "execution_count": null,
   "metadata": {
    "id": "Mv3C3mVoSfDF"
   },
   "outputs": [],
   "source": [
    "def big_o_1(values):\n",
    "    print(values[0])\n",
    "\n",
    "big_o_1([1, 2, 3])"
   ]
  },
  {
   "cell_type": "markdown",
   "metadata": {
    "id": "-kImSrouUkDe"
   },
   "source": [
    "your answer?"
   ]
  },
  {
   "cell_type": "markdown",
   "metadata": {},
   "source": [
    "`O(1)`"
   ]
  },
  {
   "cell_type": "code",
   "execution_count": 1,
   "metadata": {
    "id": "I0Q1xhFVSfDF"
   },
   "outputs": [],
   "source": [
    "def complex_function(lst):\n",
    "    print(lst[0])\n",
    "    midpoint = len(lst)//2\n",
    "    \n",
    "    for val in lst[:midpoint]:\n",
    "        print(val)\n",
    "        \n",
    "    for x in range(10):\n",
    "        print('number')"
   ]
  },
  {
   "cell_type": "markdown",
   "metadata": {
    "id": "N5dcjQoHUm4M"
   },
   "source": [
    "your answer?"
   ]
  },
  {
   "cell_type": "markdown",
   "metadata": {},
   "source": [
    "`O(n)`"
   ]
  },
  {
   "cell_type": "markdown",
   "metadata": {
    "id": "Yfgwk06eFnAr"
   },
   "source": [
    "## Question 6\n",
    "\n",
    "Use recursion to write reverseEvens(), a function that takes in a list L and returns all the evens in L in the reverse order in which they originally appeared:\n"
   ]
  },
  {
   "cell_type": "code",
   "execution_count": 10,
   "metadata": {},
   "outputs": [],
   "source": [
    "def reverseEvens(L):\n",
    "    \"\"\"\n",
    "    (list) -> list\n",
    "    Return a list of even numbers from L in reverse order.\n",
    "    \"\"\"\n",
    "    if not L:\n",
    "        return []\n",
    "\n",
    "    if L[0] % 2 == 0:\n",
    "        return reverseEvens(L[1:]) + [L[0]]\n",
    "    else:\n",
    "        return reverseEvens(L[1:])\n"
   ]
  },
  {
   "cell_type": "code",
   "execution_count": 11,
   "metadata": {
    "id": "GiMLwJcnFnAr"
   },
   "outputs": [],
   "source": [
    "assert(reverseEvens([1,2,3,4,5,6]) == [6,4,2])\n",
    "assert(reverseEvens([2,10,18]) == [18,10,2])\n",
    "assert(reverseEvens([14,15,4,16,2]) == [2,16,4,14])"
   ]
  },
  {
   "cell_type": "markdown",
   "metadata": {
    "id": "jz4KJi4_FnAr"
   },
   "source": [
    "## Question 7\n",
    "\n",
    "Use recursion to write sumDigits(), a function which finds the sum of all digits of a positive number n. Do not use strings.\n"
   ]
  },
  {
   "cell_type": "code",
   "execution_count": 12,
   "metadata": {},
   "outputs": [],
   "source": [
    "def sumDigits(n):\n",
    "    \"\"\"\n",
    "    (int) -> int\n",
    "    Return the sum of all digits of a positive number n.\n",
    "    \"\"\"\n",
    "    if n == 0:\n",
    "        return 0\n",
    "    else:\n",
    "        return n % 10 + sumDigits(n // 10)\n"
   ]
  },
  {
   "cell_type": "code",
   "execution_count": 13,
   "metadata": {
    "id": "uSjURcwOFnAr"
   },
   "outputs": [],
   "source": [
    "assert(sumDigits(1234) == 10)\n",
    "assert(sumDigits(111) == 3)\n",
    "assert(sumDigits(0) == 0)"
   ]
  },
  {
   "cell_type": "markdown",
   "metadata": {
    "id": "Q1M4AGGDFnAs"
   },
   "source": [
    "## Question 8\n",
    "\n",
    "nthSortOfSquarish(n)\n",
    "\n",
    "Important note: you cannot use strings for this problem but lists are ok."
   ]
  },
  {
   "cell_type": "markdown",
   "metadata": {
    "id": "be4LehffFnAs"
   },
   "source": [
    "A number n is sort-of-squarish if all of these are true:\n",
    "* n is positive\n",
    "* n contains no zeros\n",
    "* n is not a perfect square\n",
    "* the digits of n, when sorted, form a perfect square."
   ]
  },
  {
   "cell_type": "markdown",
   "metadata": {
    "id": "f_Uj0DwUFnAt"
   },
   "source": [
    "For example, consider 522. The number formed by sorting those digits is 225, and 225 is a perfect square (15**2). Thus, 522 is sort-of-squarish. Since the order of the digits does not matter, 252 is also sort-of-squarish. Note that 225 is a perfect square so is not sort-of-squarish.\n",
    "\n",
    "Here are the first 10 sort-of-squarish numbers:\n",
    "\n",
    "[52, 61, 63, 94, 252, 265, 298, 414, 522, 526]\n",
    "\n",
    "With this in mind, first write isPerfectSquare(n) that takes a non-negative int n and returns True if it is a perfect square (0, 1, 4, 9, 16, etc) and False otherwise.\n",
    "\n",
    "Next, write the function isSortOfSquarish(n) that takes a possibly-negative int n and returns if n is a sort-of-squarish number.\n",
    "\n",
    "Then, also write the function nthSortOfSquarish(n) that takes a non-negative int n an returns the nth sort-of-squarish number, so nthSortOfSquarish(0) returns 52.\n",
    "\n",
    "Hints:\n",
    "1. Remember, do not use strings here, but lists are ok.\n",
    "2. You must write isPerfectSquare(n), isSortOfSquarish(n), and nthSortOfSquarish(n) along with any other helper functions you use.\n",
    "3. In isSortOfSquarish(n) you might want to make a list containing the individual digits in n."
   ]
  },
  {
   "cell_type": "code",
   "execution_count": null,
   "metadata": {
    "id": "Cnbel5_gFnAt"
   },
   "outputs": [],
   "source": [
    "def isPerfectSquare(n):\n",
    "    # your code\n",
    "\n",
    "def isSortOfSquarish(n):\n",
    "    # your code\n",
    "\n",
    "def nthSortOfSquarish(n):\n",
    "    # your code\n",
    "\n",
    "\n",
    "# These test cases are for your use only.  You may comment them out if you\n",
    "# get stuck and need to move on to the next part.\n",
    "def testIsPerfectSquare():\n",
    "    print('Testing isPerfectSquare(n))...', end='')\n",
    "    assert(isPerfectSquare(4) == True)\n",
    "    assert(isPerfectSquare(9) == True)\n",
    "    assert(isPerfectSquare(10) == False)\n",
    "    assert(isPerfectSquare(52) == False)\n",
    "    assert(isPerfectSquare(225) == True)\n",
    "    assert(isPerfectSquare(1225) == True)\n",
    "    assert(isPerfectSquare(1226) == False)\n",
    "    print('Passed')\n",
    "\n",
    "\n",
    "def testIsSortOfSquarish():\n",
    "    print('Testing isSortOfSquarish(n))...', end='')\n",
    "    assert(isSortOfSquarish(52) == True)\n",
    "    assert(isSortOfSquarish(16) == False)\n",
    "    assert(isSortOfSquarish(502) == False)\n",
    "    assert(isSortOfSquarish(414) == True)\n",
    "    assert(isSortOfSquarish(5221) == True)\n",
    "    assert(isSortOfSquarish(6221) == False)\n",
    "    assert(isSortOfSquarish(-52) == False)\n",
    "    print('Passed')\n",
    "\n",
    "\n",
    "def testNthSortOfSquarish():\n",
    "    print('Testing nthSortOfSquarish()...', end='')\n",
    "    assert(nthSortOfSquarish(0) == 52)\n",
    "    assert(nthSortOfSquarish(1) == 61)\n",
    "    assert(nthSortOfSquarish(2) == 63)\n",
    "    assert(nthSortOfSquarish(3) == 94)\n",
    "    assert(nthSortOfSquarish(4) == 252)\n",
    "    assert(nthSortOfSquarish(8) == 522)\n",
    "    print('Passed')\n",
    "\n",
    "testIsPerfectSquare()\n",
    "testIsSortOfSquarish()\n",
    "testNthSortOfSquarish()"
   ]
  },
  {
   "cell_type": "markdown",
   "metadata": {},
   "source": [
    "## Question 9 encodeRightLeftRouteCipher(message,rows)\n",
    "\n",
    "Background: A right-left route cipher is a fairly simple way to encrypt a message. It takes two values, some plaintext and a number of rows, and it first constructs a grid with that number of rows and the minimum number of columns required, writing the message in successive columns. For example, if the message is WEATTACKATDAWN, with 4 rows, the grid would be: \n",
    "\n",
    "```\n",
    "    W T A W\n",
    "    E A T N\n",
    "    A C D\n",
    "    T K A\n",
    "```\n",
    "\n",
    "We will assume the message only contains uppercase letters. We'll fill in the missing grid entries with lowercase letters starting from z and going in reverse (wrapping around if necessary), so we have: \n",
    "```\n",
    "    W T A W\n",
    "    E A T N\n",
    "    A C D z\n",
    "    T K A y\n",
    "```\n",
    "\n",
    "Next, we encrypt the text by reading alternating rows first to the right (\"WTAW\"), then to the left (\"NTAE\"), then back to the right (\"ACDz\"), and back to the left (\"yAKT\"), until we finish all rows. We precede these values with the number of rows itself in the string. So the encrypted value for the message WEATTACKATDAWN with 4 rows is \"4WTAWNTAEACDzyAKT\".\n",
    "\n",
    "With this in mind, write the function encodeRightLeftRouteCipher that takes an all-uppercase message and a positive integer number of rows, and returns the encoding as just described.\n",
    "\n",
    "Here are a few more examples to consider: "
   ]
  },
  {
   "cell_type": "code",
   "execution_count": null,
   "metadata": {},
   "outputs": [],
   "source": [
    "assert(encodeRightLeftRouteCipher(\"WEATTACKATDAWN\",4) == \"4WTAWNTAEACDzyAKT\")\n",
    "assert(encodeRightLeftRouteCipher(\"WEATTACKATDAWN\",3) == \"3WTCTWNDKTEAAAAz\") \n",
    "assert(encodeRightLeftRouteCipher(\"WEATTACKATDAWN\",5) == \"5WADACEAKWNATTTz\") "
   ]
  }
 ],
 "metadata": {
  "colab": {
   "collapsed_sections": [],
   "provenance": [],
   "toc_visible": true
  },
  "kernelspec": {
   "display_name": "Python 3 (ipykernel)",
   "language": "python",
   "name": "python3"
  },
  "language_info": {
   "codemirror_mode": {
    "name": "ipython",
    "version": 3
   },
   "file_extension": ".py",
   "mimetype": "text/x-python",
   "name": "python",
   "nbconvert_exporter": "python",
   "pygments_lexer": "ipython3",
   "version": "3.10.13"
  }
 },
 "nbformat": 4,
 "nbformat_minor": 1
}
