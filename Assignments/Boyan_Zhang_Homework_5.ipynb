{
 "cells": [
  {
   "attachments": {},
   "cell_type": "markdown",
   "metadata": {},
   "source": [
    "## Homework 5 Complex Problems\n",
    "Hello everyone,\n",
    "\n",
    "Welcome to homework 5. If you found the last question from phase one challenging, don't be discouraged. Experienced programmers aren't inherently smarter than you; they simply have techniques to handle complexity.\n",
    "\n",
    "In this homework, we will show you how to use abstraction and decomposition to solve even more complex problems, including the challenging question from last homework. We'll also provide opportunities for you to apply these methods to handle other difficult problems.\n",
    "\n",
    "Abstraction/Decomposition is the 'black magic' that programmers use. Instead of tackling a problem as a whole, we break it down into smaller, more manageable tasks, and then use these building blocks to construct our entire program.\n",
    "\n",
    "Let's begin our discussion with the familiar problem of the String Artist one more time. This time, let us walk through steps of this problem. "
   ]
  },
  {
   "attachments": {},
   "cell_type": "markdown",
   "metadata": {},
   "source": [
    "## Question 1 String Artist\n",
    "In this question, you are going to be a string artist, writing programs to create a fancy W(maybe not that fancy).\n",
    "\n",
    "Here is the string your function are going to print out. \n",
    "```{python}\n",
    "\"\"\"\n",
    ". . R . . . R . . . R . . \n",
    ". R 0 R . R 0 R . R 0 R . \n",
    "R 0 0 0 R 0 0 0 R 0 0 0 R \n",
    ". R 0 R 0 R 0 R 0 R 0 R . \n",
    ". . R 0 0 0 R 0 0 0 R . . \n",
    ". . . R 0 R . R 0 R . . . \n",
    ". . . . R . . . R . . . . \n",
    "\n",
    "\"\"\"\n",
    "```"
   ]
  },
  {
   "cell_type": "code",
   "execution_count": 11,
   "metadata": {},
   "outputs": [
    {
     "name": "stdout",
     "output_type": "stream",
     "text": [
      "\n",
      ". . .\n",
      ". . .\n",
      ". . .\n",
      "\n"
     ]
    }
   ],
   "source": [
    "def makeBoard(board):\n",
    "    s = \"\\n\"\n",
    "    for row in board:\n",
    "        s += \" \".join(row) + \"\\n\"\n",
    "    return s\n",
    "print(makeBoard([[\".\", \".\", \".\"], [\".\", \".\", \".\"], [\".\", \".\", \".\"]]))"
   ]
  },
  {
   "attachments": {},
   "cell_type": "markdown",
   "metadata": {},
   "source": [
    "Let's take a moment to explore how this 'black magic' of abstraction works.\n",
    "\n",
    "First, we need to examine the problem and identify simpler tasks that we can accomplish. In the case of the String Artist, a simple task would be to draw a diamond shape.\n",
    "\n",
    "The entire image is actually just multiple diamonds arranged with some small overlaps. The only difference between them is their positions on the board. We can write a function that takes a position as input and draws a diamond at that position.\n",
    "\n",
    "Now, we get a new but eaiser question become\n",
    "\n",
    "Given a board (represented in a nested list) and a coordinate x and y, draw a diamond centered at board[x][y] \n",
    "\n",
    "Given a 7 x 7 empty board, out drawDiamond(board, 2, 2) will return \n",
    "```{python}\n",
    "\"\"\"\n",
    ". . R . . . .\n",
    ". R 0 R . . .\n",
    "R 0 0 0 R . .\n",
    ". R 0 R . . . \n",
    ". . R . . . .\n",
    ". . . . . . .\n",
    ". . . . . . .\n",
    "\"\"\"\n",
    "```\n",
    "\n",
    "Before we dive into implementing the diamond drawing function, it's worth noting that while breaking the problem down into smaller tasks can make it simpler, it can still be quite challenging. As programmers, we tend to be lazy and aim to minimize the mental effort required.\n",
    "\n",
    "To make this task easier, we can further break it down into an even more fundamental task: drawing horizontal lines. Each diamond is made up of multiple lines, all of which follow the same format: the first and last characters are 'R', and the character in the middle is '0'.\n",
    "\n",
    "Now we have a even simplier problem. \n",
    "\n",
    "Given a board (represented in a nested list), a coordinate x and y, a length l, draw a horizontal line with length l centered at board[x][y]\n",
    "\n",
    "Given a 7 x 7 empty board, our drawHorizontalLine(board, 2, 2, 5) will return \n",
    "\n",
    "```{python}\n",
    "\"\"\"\n",
    ". . . . . . .\n",
    ". . . . . . .\n",
    "R 0 0 0 R . .\n",
    ". . . . . . . \n",
    ". . . . . . .\n",
    ". . . . . . .\n",
    ". . . . . . .\n",
    "\"\"\"\n",
    "```\n",
    "\n",
    "rawHorizontalLine(board, 0, 1, 3) will return\n",
    "\n",
    "\n",
    "```{python}\n",
    "\"\"\"\n",
    "R 0 R . . . .\n",
    ". . . . . . .\n",
    ". . . . . . .\n",
    ". . . . . . . \n",
    ". . . . . . .\n",
    ". . . . . . .\n",
    ". . . . . . .\n",
    "\"\"\"\n",
    "```\n",
    "\n",
    "It seems  like this work is simple enough. Let's start coding!!\n",
    "\n",
    "\n",
    "#### Task 1\n",
    "Filled in the drawHorizontalLine function to achieve the aforementioned functionalities"
   ]
  },
  {
   "cell_type": "code",
   "execution_count": null,
   "metadata": {},
   "outputs": [],
   "source": [
    "def drawHorizontalLine(board, x, y, l):\n",
    "    # Actually you don't need to return anything, just update board inplace\n",
    "    # your code here\n",
    " \n",
    "    return"
   ]
  },
  {
   "cell_type": "code",
   "execution_count": null,
   "metadata": {},
   "outputs": [],
   "source": [
    "# Use this code to convince yourself that your drawHorizontalLine is correct\n",
    "board = [[\"*\"] * 13 for _ in range(7)]\n",
    "drawHorizontalLine(board, 2, 2, 5)\n",
    "print(makeBoard(board))"
   ]
  },
  {
   "attachments": {},
   "cell_type": "markdown",
   "metadata": {},
   "source": [
    "#### Task 2\n",
    "After you feel confident about your drawHorizontalLine function. Filled in drawDiamond function to achieve the aforementioned functionality. You may want to invoke drawHorizontalLine inside drawDiamond directly."
   ]
  },
  {
   "cell_type": "code",
   "execution_count": null,
   "metadata": {},
   "outputs": [],
   "source": [
    "def drawDiamond(board, x, y):\n",
    "    # function return None, update the board inplace\n",
    "    # Your code here\n",
    "\n",
    "    return"
   ]
  },
  {
   "cell_type": "code",
   "execution_count": null,
   "metadata": {},
   "outputs": [],
   "source": [
    "# Use this code to convince yourself that your drawDiamond is correct\n",
    "board = [[\"*\"] * 13 for _ in range(7)]\n",
    "drawDiamond(board, 2, 2)\n",
    "print(makeBoard(board))"
   ]
  },
  {
   "attachments": {},
   "cell_type": "markdown",
   "metadata": {},
   "source": [
    "#### Task 3\n",
    "After you are confident that drawDiamond works as expected. Filled out ultimate function drawStringArt to ultimatly print out our fancy W. If you did the previous work correctly, You may find this function will be really short and easy to write. "
   ]
  },
  {
   "cell_type": "code",
   "execution_count": 12,
   "metadata": {},
   "outputs": [],
   "source": [
    "def drawStringArt(board):\n",
    "    # your code here\n",
    "\n",
    "    return makeBoard(board)"
   ]
  },
  {
   "cell_type": "code",
   "execution_count": 13,
   "metadata": {},
   "outputs": [],
   "source": [
    "# use this code to test your result\n",
    "board = [[\".\"] * 13 for _ in range(7)]\n",
    "assert(drawStringArt(board) == \n",
    "\"\"\"\n",
    ". . R . . . R . . . R . .\n",
    ". R 0 R . R 0 R . R 0 R .\n",
    "R 0 0 0 R 0 0 0 R 0 0 0 R\n",
    ". R 0 R 0 R 0 R 0 R 0 R .\n",
    ". . R 0 0 0 R 0 0 0 R . .\n",
    ". . . R 0 R . R 0 R . . .\n",
    ". . . . R . . . R . . . .\n",
    "\"\"\")"
   ]
  },
  {
   "attachments": {},
   "cell_type": "markdown",
   "metadata": {},
   "source": [
    "Congratulations! You have successfully completed our String Artist problem once again, and you may have found that it became much easier once you applied the trick of abstraction to your programming. This is the true magic of abstraction.\n",
    "\n",
    "Before writing your code, always scrutinize the problem to see if there are any simpler tasks that can be encapsulated into functions. By doing so, you can abstract out common structures of the problem, which will become your building blocks for larger scale questions.\n",
    "\n",
    "Now that you understand the concept of abstraction, you are ready to tackle more challenging tasks. In the next question, I will provide a solution using abstraction, with less explanation. It's time for you to practice!"
   ]
  },
  {
   "attachments": {},
   "cell_type": "markdown",
   "metadata": {
    "id": "ub3WoY2AwkFL"
   },
   "source": [
    "## Question 2\n",
    "### Find nth left truncatable prime\n",
    "A left truncatable prime is a prime number that remains prime after removing digits from its left side. \n",
    "\n",
    "Take 3797 as an example. \n",
    "\n",
    "3797 itself is a prime. Remove the left most digit 3, 797 is also a prime. Continuing removing digit from left, 97, 7 are all primes. Thus, 3797 is a left truncatable prime. \n",
    "\n",
    "In the contrast, 11 is not a left truncatable prime. Although 11 is a prime, but after remove the left most digit, 1 is not a prime. \n",
    "\n",
    "Please note that all one digit primes like 2, 3, 5, 7 are left truncatable prime by our definition. \n",
    "\n",
    "You can see [here](https://en.wikipedia.org/wiki/Truncatable_prime) for more details about left truncatable prime.\n",
    "\n",
    "In this question, you are going to write a function nthLeftTruncatablePrime(n) which returns the nth left truncatable primes. \n",
    "\n",
    "\n",
    "Here is a list of the first some left truncatable primes: \n",
    "\n",
    "\n",
    "2, 3, 5, 7, 13, 17 ... \n",
    "\n",
    "\n",
    "nthLeftTruncatablePrime(1) will return 2 as it's the 1st left truncatable primes. \n",
    "\n",
    "nthLeftTruncatablePrime(6) will return 17 as it's the 6th left truncatable primes. \n"
   ]
  },
  {
   "attachments": {},
   "cell_type": "markdown",
   "metadata": {},
   "source": [
    "### Hint\n",
    "Another complicated question! Please make sure that you understand the definition of a left-truncatable prime before proceeding.\n",
    "\n",
    "Let's consider if there is anything we can abstract out.\n",
    "\n",
    "To find the nth left-truncatable prime, we need to iterate through all values and check if it is a left-truncatable prime. We can write a helper function isLeftTruncatablePrime(num) that takes an integer and returns whether it is a left-truncatable prime.\n",
    "\n",
    "To verify if a number is left-truncatable, we can abstract out another function to verify if an integer is prime. Thus, we can prepare a function isPrime(num) that takes an integer and returns whether it is prime.\n",
    "\n",
    "Fill in these three functions to complete the task!"
   ]
  },
  {
   "cell_type": "code",
   "execution_count": null,
   "metadata": {},
   "outputs": [],
   "source": [
    "def isPrime(num):\n",
    "    # your code here\n",
    "    return False"
   ]
  },
  {
   "attachments": {},
   "cell_type": "markdown",
   "metadata": {},
   "source": [
    "\"Before proceeding, it's important to write tests for your isPrime function so that you can have confidence in its correctness. This is one of the many benefits of abstraction: it allows us to independently test each piece of code we write.\n",
    "\n",
    "For this task, you'll need to write your own tests. Be sure to consider corner cases, such as 0 or 1. "
   ]
  },
  {
   "attachments": {},
   "cell_type": "markdown",
   "metadata": {},
   "source": [
    "### Hint\n",
    "Testing is another tool that programmers use to handle complexity. We want to find bugs early in the development process, so testing is always a good idea in programming. It plays a key role in real-world software development. There's even a development style called Test-Driven Development, where software engineers write tests before implementing the functions.\n",
    "\n",
    "Sometimes you may think writing tests is tedious. You might complain, \"This function only contains 5 lines of code. There's no way I'll make mistakes on such a simple function. I don't want to write tests for this silly functionality.\"\n",
    "\n",
    "While it's true that writing tests can be time-consuming, they can save you time in the long run, especially when you're developing large software systems. You'll soon realize the benefits of testing once you have more experience in programming.\n",
    "\n",
    "From now on, you're required to implement tests for each of the functions you write."
   ]
  },
  {
   "cell_type": "code",
   "execution_count": 2,
   "metadata": {},
   "outputs": [],
   "source": [
    "def testIsPrime():\n",
    "    # your code here\n",
    "    return\n",
    "testIsPrime()"
   ]
  },
  {
   "attachments": {},
   "cell_type": "markdown",
   "metadata": {},
   "source": [
    "Fill in is LeftTruncatePrime(num), test it, and proceed. "
   ]
  },
  {
   "cell_type": "code",
   "execution_count": null,
   "metadata": {},
   "outputs": [],
   "source": [
    "def isLeftTruncatePrime(num):\n",
    "    # your code here\n",
    "    return True"
   ]
  },
  {
   "cell_type": "code",
   "execution_count": null,
   "metadata": {},
   "outputs": [],
   "source": [
    "def testLeftTruncatablePrime():\n",
    "    # your code here\n",
    "    return\n",
    "testLeftTruncatablePrime()"
   ]
  },
  {
   "cell_type": "code",
   "execution_count": null,
   "metadata": {},
   "outputs": [],
   "source": [
    "def nthLeftTruncatablePrime(n):\n",
    "    # your code here\n",
    "    return 0"
   ]
  },
  {
   "cell_type": "code",
   "execution_count": null,
   "metadata": {
    "id": "wrqSKtWYwu_U"
   },
   "outputs": [],
   "source": [
    "\n",
    "def testNthLeftTruncatablePrime():\n",
    "    print('Testing nthLeftTruncatablePrime()... ', end='')\n",
    "    assert(nthLeftTruncatablePrime(1) == 2)\n",
    "    assert(nthLeftTruncatablePrime(11) == 53)\n",
    "    assert(nthLeftTruncatablePrime(2) == 3)\n",
    "    assert(nthLeftTruncatablePrime(6) == 17)\n",
    "    print('Passed!')\n",
    "testNthLeftTruncatablePrime()"
   ]
  },
  {
   "attachments": {},
   "cell_type": "markdown",
   "metadata": {},
   "source": [
    "Congradulations!! Your finished your second coding challenge. Now you see the power of the abstraction. In the next question, I will leave everything to you. It is up to you to choose your abstractions and solve the questions. \n",
    "\n"
   ]
  },
  {
   "attachments": {},
   "cell_type": "markdown",
   "metadata": {
    "id": "5ajO4xSuw5Bn"
   },
   "source": [
    "## Question 3\n",
    "\n",
    "\n",
    "\n",
    "\n",
    "A powerful number is the product of a square and a cube, that is, a number $m$ of the form $$m = a^2b^3$$\n",
    "\n",
    "In other word, if an integer can be represented by an integer's square times an integer's cube. It is a powerful number. \n",
    "\n",
    "For example, \n",
    "\n",
    "64 is a powerful number as $64 = 8^2 \\times 1^3$\n",
    "\n",
    "100 is a powerful number as $100 = 6^2 \\times 4^3$\n",
    "\n",
    "1 is a powerful number as $1 = 1^2 \\times 1^3$\n",
    "\n",
    "See [here](https://en.wikipedia.org/wiki/Powerful_number) for details. \n",
    "\n",
    "Write the function to return the nthPowerfulNumber(n). \n",
    "So nthPowerfulNumber(1) returns 1, and nthPowerfulNumber(11) returns 64.\n",
    "\n",
    "\n",
    "Hint: A way to check if an integer is a powerful number is to divide it by all square numbers smaller than it and see if the quotient is a cube number. \n",
    "\n",
    "Think about what you can abstract out for this task.\n",
    "\n",
    "Make sure you test each of your functions thoroughly before combining them up. "
   ]
  },
  {
   "cell_type": "code",
   "execution_count": null,
   "metadata": {
    "id": "UITHAQXKxHoN"
   },
   "outputs": [],
   "source": [
    "def nthPowerfulNumber(n):\n",
    "    ## your code\n",
    "    return 0\n",
    "\n",
    "def testNthPowerfulNumber():\n",
    "    print('Testing nthPowerfulNumber()... ', end='')\n",
    "    assert(nthPowerfulNumber(1) == 1)\n",
    "    assert(nthPowerfulNumber(2) == 4)\n",
    "    assert(nthPowerfulNumber(3) == 8)\n",
    "    assert(nthPowerfulNumber(4) == 9)\n",
    "    assert(nthPowerfulNumber(5) == 16)\n",
    "    assert(nthPowerfulNumber(6) == 25)\n",
    "    assert(nthPowerfulNumber(11) == 64)\n",
    "    assert(nthPowerfulNumber(16) == 121)\n",
    "    assert(nthPowerfulNumber(21) == 196)\n",
    "    print('Passed!')\n",
    "testNthPowerfulNumber()"
   ]
  },
  {
   "attachments": {},
   "cell_type": "markdown",
   "metadata": {},
   "source": [
    "Congratulations! You should have mastered abstraction by this point. Let us practice it with the last question."
   ]
  },
  {
   "cell_type": "markdown",
   "metadata": {},
   "source": [
    "## Question 4\n",
    "\n",
    "Write the function lookAndSay(a) that takes a list of numbers and returns a list of numbers that results from \"reading off\" the initial list using the look-and-say method, using tuples for each (count, value) pair. If you have already forgotten about tuples, please review your notes. You can read about look-and-say numbers [here](https://en.wikipedia.org/wiki/Look-and-say_sequence)."
   ]
  },
  {
   "cell_type": "markdown",
   "metadata": {},
   "source": [
    "For example, you should have"
   ]
  },
  {
   "cell_type": "code",
   "execution_count": null,
   "metadata": {},
   "outputs": [],
   "source": [
    "assert(lookAndSay([]) == [])\n",
    "assert(lookAndSay([1,1,1]) == [(3,1)])\n",
    "assert(lookAndSay([-1,2,7]) == [(1,-1),(1,2),(1,7)])\n",
    "assert(lookAndSay([3,3,8,-10,-10,-10]) == [(2,3),(1,8),(3,-10)])\n",
    "assert(lookAndSay([3,3,8,3,3,3,3]) == [(2,3),(1,8),(4,3)])"
   ]
  }
 ],
 "metadata": {
  "colab": {
   "collapsed_sections": [],
   "name": "homework4_without_solutions.ipynb",
   "provenance": []
  },
  "kernelspec": {
   "display_name": "Python 3",
   "language": "python",
   "name": "python3"
  },
  "language_info": {
   "codemirror_mode": {
    "name": "ipython",
    "version": 3
   },
   "file_extension": ".py",
   "mimetype": "text/x-python",
   "name": "python",
   "nbconvert_exporter": "python",
   "pygments_lexer": "ipython3",
   "version": "3.8.8"
  }
 },
 "nbformat": 4,
 "nbformat_minor": 1
}
