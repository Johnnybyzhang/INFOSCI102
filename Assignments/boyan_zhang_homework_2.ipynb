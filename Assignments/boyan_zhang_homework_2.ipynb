{
  "cells": [
    {
      "cell_type": "markdown",
      "metadata": {
        "id": "uGuW-1AiPkd4"
      },
      "source": [
        "## Question 1\n",
        "\n",
        "Following the function design recipe, define a function that has one parameter, a number, and returns that number tripled."
      ]
    },
    {
      "cell_type": "code",
      "execution_count": 1,
      "metadata": {
        "id": "Zi6U1yLmZZL4"
      },
      "outputs": [],
      "source": [
        "## your code\n",
        "def your_function(input):\n",
        "    return input*3\n",
        "# print(your_function(2)) # output 6"
      ]
    },
    {
      "cell_type": "markdown",
      "metadata": {
        "id": "k5pMWXmVPkd5"
      },
      "source": [
        "## Quesiton 2\n",
        "\n",
        "Following the function design recipe, define a function that has two parameters, both of which are numbers, and returns the absolute value of the difference of the two. Hint: Call built-in function abs."
      ]
    },
    {
      "cell_type": "code",
      "execution_count": 4,
      "metadata": {
        "id": "xwlusNCjZn2G"
      },
      "outputs": [],
      "source": [
        "## your code\n",
        "def absMinus(input1,input2):\n",
        "    return abs(input1-input2)\n",
        "## input 2 and 5, output 3"
      ]
    },
    {
      "cell_type": "markdown",
      "metadata": {
        "id": "JBCXD0FTPkd5"
      },
      "source": [
        "## Question 3\n",
        "\n",
        "Following the function design recipe, define a function that has one parameter, a distance in kilometers, and returns the distance in miles. (There are 1.6 kilometers per mile.)"
      ]
    },
    {
      "cell_type": "code",
      "execution_count": 13,
      "metadata": {
        "id": "TtLlLQ-raTBj"
      },
      "outputs": [],
      "source": [
        "## your code\n",
        "from math import floor\n",
        "def kmToMile(input):\n",
        "    return input/1.6 if floor(input/1.6) != input/1.6 else int(input/1.6) ## added logic to meet the requirement of output 1 instead of 1.0\n",
        "## input 1.6, output 1"
      ]
    },
    {
      "cell_type": "markdown",
      "metadata": {
        "id": "2Fj6nuXAPkd6"
      },
      "source": [
        "## Question 4\n",
        "\n",
        "Complete the examples in the docstring and then write the body of the following function:\n",
        "\n",
        "```\n",
        "def  weeks_elapsed(day1, day2):\n",
        "         \"\"\" (int, int) -> int\n",
        "    \n",
        "         day1 and day2 are days in the same year. Return the number of full weeks\n",
        "         that have elapsed between the two days.\n",
        "    \n",
        "    >>> weeks_elapsed(3, 20)\n",
        "        2\n",
        "    >>> weeks_elapsed(20, 3)\n",
        "        2\n",
        "    >>> weeks_elapsed(8, 5)\n",
        "    \n",
        "    >>> weeks_elapsed(40, 61)\n",
        "    \n",
        "         \"\"\"\n",
        "\n",
        "```"
      ]
    },
    {
      "cell_type": "code",
      "execution_count": null,
      "metadata": {
        "id": "u1dAmEHtaiOZ"
      },
      "outputs": [],
      "source": [
        "## your code\n",
        "\n",
        "\n",
        "print(weeks_elapsed(3, 20))\n",
        "print(weeks_elapsed(20,3))\n",
        "print(weeks_elapsed(8, 5))\n",
        "print(weeks_elapsed(40,61))"
      ]
    },
    {
      "cell_type": "markdown",
      "metadata": {
        "id": "iLcLLTUTdBSo"
      },
      "source": [
        "## Question 5\n",
        "\n",
        "Write a function nearestOdd(n) that takes an int or float n, and returns as an int value the nearest odd number to n. In the case of a tie, return the smaller odd value."
      ]
    },
    {
      "cell_type": "code",
      "execution_count": null,
      "metadata": {
        "id": "rtR1Cz09dEFB"
      },
      "outputs": [],
      "source": [
        "def nearestOdd(n):\n",
        "  ## your code\n",
        "\n",
        "def testNearestOdd():\n",
        "    print('Testing nearestOdd()... ', end='')\n",
        "    assert(nearestOdd(13) == 13)\n",
        "    assert(nearestOdd(12.001) == 13)\n",
        "    assert(nearestOdd(12) == 11)\n",
        "    assert(nearestOdd(11.999) == 11)\n",
        "    assert(nearestOdd(-13) == -13)\n",
        "    assert(nearestOdd(-12.001) == -13)\n",
        "    assert(nearestOdd(-12) == -13)\n",
        "    assert(nearestOdd(-11.999) == -11)\n",
        "    print('Passed...')\n",
        "\n",
        "testNearestOdd()"
      ]
    },
    {
      "cell_type": "markdown",
      "metadata": {
        "id": "xTIqp7CeS8Mq"
      },
      "source": [
        "## Question 6\n",
        "\n",
        "Write the function eggCartons(eggs) that takes a non-negative integer number of eggs, and returns the smallest integer number of cartons required to hold that many eggs, where a carton may hold up to 12 eggs."
      ]
    },
    {
      "cell_type": "code",
      "execution_count": null,
      "metadata": {
        "id": "xUK-SR4iTJp1"
      },
      "outputs": [],
      "source": [
        "def eggCartons(eggs):\n",
        "## your code\n",
        "\n",
        "\n",
        "def testEggCartons():\n",
        "    print('testEggCartons()... ', end='')\n",
        "    assert(eggCartons(0) == 0)\n",
        "    assert(eggCartons(12) == 1)\n",
        "    assert(eggCartons(13) == 2)\n",
        "    assert(eggCartons(24) == 2)\n",
        "    assert(eggCartons(25) == 3)\n",
        "    assert(eggCartons(-25) == -1)\n",
        "    print('Passed...')\n",
        "\n",
        "# Test the function\n",
        "testEggCartons()"
      ]
    }
  ],
  "metadata": {
    "colab": {
      "provenance": []
    },
    "kernelspec": {
      "display_name": "Python 3",
      "language": "python",
      "name": "python3"
    },
    "language_info": {
      "codemirror_mode": {
        "name": "ipython",
        "version": 3
      },
      "file_extension": ".py",
      "mimetype": "text/x-python",
      "name": "python",
      "nbconvert_exporter": "python",
      "pygments_lexer": "ipython3",
      "version": "3.10.13"
    }
  },
  "nbformat": 4,
  "nbformat_minor": 0
}
