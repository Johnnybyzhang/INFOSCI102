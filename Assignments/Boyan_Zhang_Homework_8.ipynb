{
 "cells": [
  {
   "cell_type": "markdown",
   "metadata": {},
   "source": [
    "## Question 1\n",
    "\n",
    "Without using iteration, write the recursive function hasConsecutiveDigits(n) that takes a possibly-negative int value n and returns True if that number contains two consecutive digits that are the same, and False otherwise."
   ]
  },
  {
   "cell_type": "code",
   "execution_count": 4,
   "metadata": {},
   "outputs": [],
   "source": [
    "def hasConsecutiveDigits(n):\n",
    "    \"\"\"\n",
    "    int -> bool\n",
    "    This function checks if a number (n) contains two consecutive digits that are the same.\n",
    "    It is implemented recursively without iteration. The function handles negative numbers by\n",
    "    converting them to positive.\n",
    "    \"\"\"\n",
    "    # Handling negative numbers\n",
    "    n = abs(n)\n",
    "\n",
    "    # Base case: if the number has less than two digits, it cannot have consecutive same digits\n",
    "    if n < 10:\n",
    "        return False\n",
    "\n",
    "    # Check if the last two digits are the same\n",
    "    if n % 10 == (n // 10) % 10:\n",
    "        return True\n",
    "\n",
    "    # Recursive call, removing the last digit\n",
    "    return hasConsecutiveDigits(n // 10)"
   ]
  },
  {
   "cell_type": "code",
   "execution_count": 5,
   "metadata": {},
   "outputs": [
    {
     "name": "stdout",
     "output_type": "stream",
     "text": [
      "Beginning hasConsecutiveDigits test cases...Passed!\n"
     ]
    }
   ],
   "source": [
    "def testHasConsecutiveDigits():\n",
    "  print(\"Beginning hasConsecutiveDigits test cases...\", end=\"\")\n",
    "  assert(hasConsecutiveDigits(1123) == True)\n",
    "  assert(hasConsecutiveDigits(-1123) == True)\n",
    "  assert(hasConsecutiveDigits(1234) == False)\n",
    "  assert(hasConsecutiveDigits(0) == False)\n",
    "  assert(hasConsecutiveDigits(1233) == True)\n",
    "  print(\"Passed!\")\n",
    "\n",
    "testHasConsecutiveDigits()"
   ]
  },
  {
   "cell_type": "markdown",
   "metadata": {},
   "source": [
    "## Question 2 \n",
    "\n",
    "Without using iteration, write the function `alternatingSum(L)` that takes a possibly-empty list of numbers, and returns the alternating sum of the list, where every other value is subtracted rather than added. For example: `alternatingSum([1,2,3,4,5])` returns 1-2+3-4+5 (that is, 3). If L is empty, return 0. "
   ]
  },
  {
   "cell_type": "code",
   "execution_count": 6,
   "metadata": {},
   "outputs": [],
   "source": [
    "def alternatingSum(L, index=0):\n",
    "    \"\"\"\n",
    "    list -> int\n",
    "    This function computes the alternating sum of a list of numbers (L) recursively.\n",
    "    Each number in the list is alternately added and subtracted, starting with addition.\n",
    "    If the list is empty, the function returns 0.\n",
    "    The 'index' parameter is used to keep track of the current position in the list during recursion.\n",
    "    \"\"\"\n",
    "    # Base case: if the list is empty or the recursion has reached the end of the list\n",
    "    if not L or index == len(L):\n",
    "        return 0\n",
    "\n",
    "    # Recursive case: alternately add and subtract elements\n",
    "    if index % 2 == 0:\n",
    "        # Add current element\n",
    "        return L[index] + alternatingSum(L, index + 1)\n",
    "    else:\n",
    "        # Subtract current element\n",
    "        return -L[index] + alternatingSum(L, index + 1)"
   ]
  },
  {
   "cell_type": "code",
   "execution_count": 7,
   "metadata": {},
   "outputs": [
    {
     "name": "stdout",
     "output_type": "stream",
     "text": [
      "Beginning alternatingSum test cases...Passed...\n"
     ]
    }
   ],
   "source": [
    "def testAlternatingSum():\n",
    "    print(\"Beginning alternatingSum test cases...\", end=\"\")\n",
    "    assert(alternatingSum([1, 2, 3, 4, 5]) == 3)\n",
    "    assert(alternatingSum([]) == 0)\n",
    "    assert(alternatingSum([-1, -2, -3, -4, -5]) == -3)\n",
    "    assert(alternatingSum([10]) == 10)\n",
    "    print(\"Passed...\")\n",
    "\n",
    "testAlternatingSum()   "
   ]
  },
  {
   "cell_type": "markdown",
   "metadata": {},
   "source": [
    "## Question 3\n",
    "\n",
    "Background: A number n is a right-truncatable prime, or RTP, if every prefix of n (including n itself) are all prime. So, 593 is an RTP because 5, 59, and 593 are all prime. With this in mind, write the function `findRTP(digits)` that takes a positive int, digits, and returns the smallest RTP with that many digits, or None if no such number exists. To do this, you must use backtracking even if you could do it in some other way. At each step, try to add one more digit to the right of the number. Also, make sure you are only creating RTP's as you go. Note: even though findRTP(8) returns 23399339, it runs almost instantly because backtracking rules out most numbers without trying them, so it actually calls isPrime very few times.\n",
    "Hint: you may need to use callWithLargeStack so your isPrime does not stack overflow. "
   ]
  },
  {
   "cell_type": "code",
   "execution_count": 8,
   "metadata": {},
   "outputs": [],
   "source": [
    "def isPrime(n):\n",
    "    \"\"\"\n",
    "    Check if a number is prime.\n",
    "    \"\"\"\n",
    "    if n <= 1:\n",
    "        return False\n",
    "    if n <= 3:\n",
    "        return True\n",
    "    if n % 2 == 0 or n % 3 == 0:\n",
    "        return False\n",
    "    i = 5\n",
    "    while i * i <= n:\n",
    "        if n % i == 0 or n % (i + 2) == 0:\n",
    "            return False\n",
    "        i += 6\n",
    "    return True\n",
    "\n",
    "def findRTP(digits):\n",
    "    \"\"\"\n",
    "    int -> int\n",
    "    Find the smallest right-truncatable prime (RTP) with a given number of digits using backtracking.\n",
    "    \"\"\"\n",
    "\n",
    "    def backtrack(current, depth):\n",
    "        \"\"\"\n",
    "        int -> int\n",
    "        Backtrack function to build up the RTP number by adding digits.\n",
    "        \"\"\"\n",
    "        if depth == digits:\n",
    "            # If the current length matches the target, return the number\n",
    "            return current if isPrime(current) else None\n",
    "\n",
    "        for digit in range(1, 10):  # RTP cannot start with 0\n",
    "            next_num = current * 10 + digit\n",
    "            if isPrime(next_num):\n",
    "                # Recursively add next digit\n",
    "                result = backtrack(next_num, depth + 1)\n",
    "                if result is not None:\n",
    "                    return result\n",
    "\n",
    "        return None\n",
    "\n",
    "    # Start backtracking from an empty number\n",
    "    return backtrack(0, 0)"
   ]
  },
  {
   "cell_type": "code",
   "execution_count": 9,
   "metadata": {},
   "outputs": [
    {
     "name": "stdout",
     "output_type": "stream",
     "text": [
      "Beginning findRTP test cases...Passed...\n"
     ]
    }
   ],
   "source": [
    "def testFindRTP():\n",
    "    print(\"Beginning findRTP test cases...\", end=\"\")\n",
    "    assert(findRTP(2) == 23)\n",
    "    assert(findRTP(3) == 233)\n",
    "    assert(findRTP(8) == 23399339)\n",
    "    print(\"Passed...\")\n",
    "\n",
    "testFindRTP()"
   ]
  },
  {
   "cell_type": "markdown",
   "metadata": {},
   "source": [
    "## Question 4 （2 Bonus Points)\n",
    "\n",
    "First, read up on peg solitaire [here](https://en.wikipedia.org/wiki/Peg_solitaire), and then read this entire writeup carefully. Then, write a peg solitaire solver using backtracking. The boards will be given to the function as a string of periods, O's, and spaces, which represent holes, pegs, and invalid spaces respectively (see examples below). The result should be returned as a list of moves to be made in the form (fromRow, fromCol, toRow, toCol), which indicates which piece to pick up (the from piece) and where it goes (the to piece). Your function must give the answer in a reasonable amount of time, which is defined as 10 seconds.\n",
    "\n",
    "Note that this problem is actually pretty difficult to do. This is because there are a lot of possible moves one can make at some stages in the puzzle. As such, we would grade on a rolling scale as such (examples of each case below).\n",
    "\n",
    "1pt boards with 10 pegs\n",
    "1pt boards with 14 pegs\n",
    "1pt boards with 16 pegs\n",
    "2pts boards with 32 pegs\n",
    "\n",
    "Your basic backtracking will eventually get the correct answer for all situations, but it'd probably take many many years to get the solution to the 32 peg board. As such, you will have to be a bit smarter to solve the higher peg boards, and maybe even need more advanced techniques to get the 32 peg board.\n",
    "\n",
    "Here are some boards to play with. "
   ]
  },
  {
   "cell_type": "code",
   "execution_count": null,
   "metadata": {},
   "outputs": [],
   "source": [
    "board10 = \"\"\"\\\n",
    "  ...  \n",
    "  .O.  \n",
    "..OO.O.\n",
    ".O...O.\n",
    "..O.O..\n",
    "  O.O  \n",
    "  ...  \n",
    "\"\"\"\n",
    "board14 = \"\"\"\\\n",
    "  ...  \n",
    "  OO.  \n",
    "..O.OO.\n",
    "OO..OO.\n",
    ".OOO..O\n",
    "  .O.  \n",
    "  ...  \n",
    "\"\"\"\n",
    "board16 = \"\"\"\\\n",
    "  ...  \n",
    "  OO.  \n",
    "..OO...\n",
    "..OO.OO\n",
    "OOO..OO\n",
    "  OO.  \n",
    "  .O.  \n",
    "\"\"\"\n",
    "board32 = \"\"\"\\\n",
    "  OOO  \n",
    "  OOO  \n",
    "OOOOOOO\n",
    "OOO.OOO\n",
    "OOOOOOO\n",
    "  OOO  \n",
    "  OOO  \n",
    "\"\"\""
   ]
  }
 ],
 "metadata": {
  "kernelspec": {
   "display_name": "py39",
   "language": "python",
   "name": "python3"
  },
  "language_info": {
   "codemirror_mode": {
    "name": "ipython",
    "version": 3
   },
   "file_extension": ".py",
   "mimetype": "text/x-python",
   "name": "python",
   "nbconvert_exporter": "python",
   "pygments_lexer": "ipython3",
   "version": "3.10.13"
  }
 },
 "nbformat": 4,
 "nbformat_minor": 2
}
