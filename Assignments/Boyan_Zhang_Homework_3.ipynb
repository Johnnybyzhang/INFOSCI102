{
  "cells": [
    {
      "cell_type": "markdown",
      "metadata": {
        "id": "kC8x4A4Sbe15"
      },
      "source": [
        "## Question 1\n",
        "\n",
        "Variables full and empty refer to Boolean values. Write an expression that produces True if and only if at most one of the variables is True."
      ]
    },
    {
      "cell_type": "code",
      "execution_count": null,
      "metadata": {
        "id": "OdTVzM8Nlxfh"
      },
      "outputs": [],
      "source": [
        "# your answer\n",
        "full = ## can be True or False\n",
        "empty = ## can be True or False\n",
        "\n",
        "(full and not empty) or (not full and empty)"
      ]
    },
    {
      "cell_type": "markdown",
      "metadata": {
        "id": "r_1jZFtebiTP"
      },
      "source": [
        "## Question 2\n",
        "\n",
        "You want an automatic wildlife camera to switch on if the light level is less than 0.01 lux or if the temperature is above freezing, but not if both conditions are true. (You should assume that function `turn_camera_on` has already been defined.)\n",
        "\n",
        "Your first attempt to write this is as follows:\n",
        "\n",
        "\n",
        "```\n",
        "if​ (light < 0.01) ​or​ (temperature > 0.0):\n",
        "  if​ ​not​ ((light < 0.01) ​and​ (temperature > 0.0)):\n",
        "​ \t  turn_camera_on()\n",
        "```\n",
        "\n",
        "A friend says that this is an exclusive or and that you could write it more simply as follows:\n",
        "\n",
        "\n",
        "\n",
        "```\n",
        "\t​if​ (light < 0.01) != (temperature > 0.0):\n",
        "​ \t    turn_camera_on()\n",
        "```\n",
        "\n",
        "Is your friend right? If so, explain why. If not, give values for `light` and `temperature` that will produce different results for the two fragments of code.\n",
        "\n"
      ]
    },
    {
      "cell_type": "markdown",
      "metadata": {
        "id": "XmtZs5Kelxfi"
      },
      "source": [
        "## your answer\n",
        "- Wrong, when `light = 0.1` and `temperature = 1.0`, we have (`light < 0.01`), which is False, and (`temperature > 0.0`), which is True, therefore we have `False != True`, which is True, so the camera will turn on, even though it shouldn't."
      ]
    },
    {
      "cell_type": "markdown",
      "metadata": {
        "id": "zFN9zHAhTydv"
      },
      "source": [
        "## Question 3\n",
        "\n",
        "The following Python function prints out the heart disease risk for a person based on age and body mass index (BMI).\n",
        "\n",
        "\n",
        "\n",
        "```\n",
        "def heart_risk(age, bmi):\n",
        "  if age < 45:\n",
        "    if bmi < 22:\n",
        "      risk = \"low\"\n",
        "    else:\n",
        "      risk = \"medium\"\n",
        "  else:\n",
        "    if bmi < 22;\n",
        "      risk = \"medium\"\n",
        "    else:\n",
        "      risk = \"high\"\n",
        "  print(risk)\n",
        "\n",
        "```\n",
        "\n",
        "\n"
      ]
    },
    {
      "cell_type": "markdown",
      "metadata": {
        "id": "Ztx7EP6vUZR8"
      },
      "source": [
        "a.\tWhat would the function print for a 45 year old person with a bmi of 21?"
      ]
    },
    {
      "cell_type": "markdown",
      "metadata": {
        "id": "o-VJSv2Clxfj"
      },
      "source": [
        "## your answer\n",
        "- `medium`"
      ]
    },
    {
      "cell_type": "markdown",
      "metadata": {
        "id": "5a3q9SAuUaQg"
      },
      "source": [
        "b.\tFind a pair of age and bmi values such that the function would print \"low\"?"
      ]
    },
    {
      "cell_type": "code",
      "execution_count": null,
      "metadata": {
        "id": "u1MSKCF8lxfj"
      },
      "outputs": [],
      "source": [
        "## your answer\n",
        "{\n",
        "    'age' : 40,\n",
        "    'bmi' : 20\n",
        "}"
      ]
    },
    {
      "cell_type": "markdown",
      "metadata": {
        "id": "negs2RZ0Ucvq"
      },
      "source": [
        "c. Write the same function using elif statements, and do not nest any of the conditionals."
      ]
    },
    {
      "cell_type": "code",
      "execution_count": null,
      "metadata": {
        "id": "V1co-52Mlxfk"
      },
      "outputs": [],
      "source": [
        "## your answer\n",
        "def heart_risk(age, bmi):\n",
        "    if age < 45 and bmi < 22:\n",
        "        risk = 'low'\n",
        "    elif age< 45 and bmi >= 22 or age >= 45 and bmi < 22:\n",
        "        risk = 'medium'\n",
        "    elif age >= 45 and bmi >= 22:\n",
        "        risk = 'high'\n",
        "    print(risk)"
      ]
    },
    {
      "cell_type": "markdown",
      "metadata": {
        "id": "rdfdY_KRUoGT"
      },
      "source": [
        "d. Suppose that the writer of the code made an indentation error and wrote the code as follows:\n",
        "\n",
        "\n",
        "\n",
        "```\n",
        "def heart_risk(age, bmi):\n",
        "  if age < 45:\n",
        "    if bmi < 22:\n",
        "      risk = \"low\"\n",
        "    else:\n",
        "      risk = \"medium\"\n",
        "  else:\n",
        "    if bmi < 22;\n",
        "      risk = \"medium\"\n",
        "    else:\n",
        "      risk = \"high\"\n",
        "      print(risk)\n",
        "```\n",
        "\n",
        "What would the function print for a 45 year old person with a bmi of 21 in this case?"
      ]
    },
    {
      "cell_type": "markdown",
      "metadata": {
        "id": "I-UsFPu7lxfk"
      },
      "source": [
        "## your answer\n",
        "- The function will not print anything because the print function is not called."
      ]
    },
    {
      "cell_type": "markdown",
      "metadata": {
        "id": "0NYQBIW7Vj0d"
      },
      "source": [
        "## Question 4\n",
        "\n",
        "The following code displays a message(s) about the acidity of a solution:\n",
        "\n",
        "\n",
        "\n",
        "```\n",
        "ph = float(input(\"Enter the ph level: \"))\n",
        "if ph < 7.0:\n",
        "  print(\"It's acidic!\")\n",
        "elif ph < 4.0:\n",
        "  print(\"It's a strong acid!\")\n",
        "```\n",
        "\n"
      ]
    },
    {
      "cell_type": "markdown",
      "metadata": {
        "id": "aTE-PsqYWHiW"
      },
      "source": [
        "a. What message(s) are displayed when the user enters 6.4?"
      ]
    },
    {
      "cell_type": "markdown",
      "metadata": {
        "id": "HTpgtoRDlxfk"
      },
      "source": [
        "## your answer\n",
        "`It's acidic!`"
      ]
    },
    {
      "cell_type": "markdown",
      "metadata": {
        "id": "nhj3Lm8LWJML"
      },
      "source": [
        "b. What message(s) are displayed when the user enters 3.6?"
      ]
    },
    {
      "cell_type": "markdown",
      "metadata": {
        "id": "I-PUfm6zlxfl"
      },
      "source": [
        "## your answer\n",
        "`It's a strong acid!`"
      ]
    },
    {
      "cell_type": "markdown",
      "metadata": {
        "id": "cfDKeeRFWL1D"
      },
      "source": [
        "c. Make a small change to one line of the code so that both messages are displayed when a value less than 4 is entered."
      ]
    },
    {
      "cell_type": "markdown",
      "metadata": {
        "id": "cgZwbdCOlxfl"
      },
      "source": [
        "## your answer\n",
        "Change `elif` to `if`"
      ]
    },
    {
      "cell_type": "markdown",
      "metadata": {
        "id": "odLoahm8K7Tf"
      },
      "source": [
        "## Question 5\n",
        "\n",
        "In mathematics, the greatest common divisor (gcd) of two or more nonzero integers is the largest positive integer that divides the numbers without a remainder. For example, gcd of 24 and 60 is 12. An ancient method for finding the greatest common divisor was discovered by the ancient Greeks over 2000 years ago. It is called Euclid's algorithm because it was presented in detail in Euclid's Elements. The algorithm takes a pair of positive integers x and y as input and computes their gcd.\n",
        "\n",
        "1. While y is not equal to 0, do the following:\n",
        "\n",
        "\n",
        "*   a. Set temp to y\n",
        "*   b. Set y to x modulo y\n",
        "*   c. Set x to temp\n",
        "\n",
        "2. Return x as gcd\n",
        "\n",
        "Define a Python function called gcd(x,y) that implements this algorithm so that we can have following results.\n",
        "\n",
        "\n",
        "\n",
        "```\n",
        "gcd(12, 36) -> 12\n",
        "gcd(30, 75) -> 15\n",
        "```\n"
      ]
    },
    {
      "cell_type": "code",
      "execution_count": 5,
      "metadata": {
        "id": "TRGVkvJclxfl"
      },
      "outputs": [],
      "source": [
        "## your answer\n",
        "def gcd(x, y):\n",
        "    while y != 0:\n",
        "        temp = y\n",
        "        y = x % y\n",
        "        x = temp\n",
        "    return x"
      ]
    },
    {
      "cell_type": "markdown",
      "metadata": {
        "id": "QhvvOlPqK_od"
      },
      "source": [
        "## Question 6\n",
        "By printing out different characters at different locations, it is possible to create images. This is sometimes called ASCII art, and works best in a terminal that uses a fixedwidth font. Regular shapes, such as the square shown below, are easy to create—even at different sizes—algorithmically.\n",
        "\n",
        "\n",
        "\n",
        "```\n",
        "XXXXX\n",
        "XX‐XX\n",
        "XX‐XX\n",
        "XX‐XX\n",
        "XXXXX\n",
        "```\n",
        "\n",
        "This square can be created as follows: For the first and last line, print 5 copies of the character \"X\" on the first line and the last line, and for the remaining 3 lines print 2 copies of the character \"X\", followed by 1 hypen, followed by two copies of the character \"X\".\n",
        "\n",
        "Define a Python function make_square(size) that draws a square as the one above for a given size and returns None. That is, your function will print size copies of the character \"X\" on the first and last lines, and two copies of \"X\" followed by size ‐ 4 hypens, followed by two copies of the character \"X\" for the other lines. You can assume that your function will always be called with a size that is at least 5. You are required to use a nested loop (loop inside of a loop for part of your solution). Choose a different variable for each loop (e.g., if the outer loop uses \"i\", the inner loop can use \"j\"). Your function should return None. Note: You could define a function that has the same behavior without using a nested loop. Think how. But, we do want you to use a nested loop for practice.\n",
        "\n",
        "Example usage:\n",
        "\n",
        "\n",
        "```\n",
        ">>> make_square(5)\n",
        "XXXXX\n",
        "XX‐XX\n",
        "XX‐XX\n",
        "XX‐XX\n",
        "XXXXX\n",
        "\n",
        ">>> make_square(9)\n",
        "XXXXXXXXX\n",
        "XX‐‐‐‐‐XX\n",
        "XX‐‐‐‐‐XX\n",
        "XX‐‐‐‐‐XX\n",
        "XX‐‐‐‐‐XX\n",
        "XX‐‐‐‐‐XX\n",
        "XX‐‐‐‐‐XX\n",
        "XX‐‐‐‐‐XX\n",
        "XXXXXXXXX\n",
        "```\n",
        "\n",
        "\n"
      ]
    },
    {
      "cell_type": "code",
      "execution_count": 26,
      "metadata": {
        "id": "zrgYsjERlxfl"
      },
      "outputs": [],
      "source": [
        "## your answer\n",
        "def make_square(n):\n",
        "    for i in range(n):\n",
        "        for j in range(n):\n",
        "            print('X', end = '') if (i == 0 or i == n-1) or (j == 0 or j == 1 or j == n-2 or j == n-1) else print('-', end = '')\n",
        "        print()\n",
        "        "
      ]
    },
    {
      "cell_type": "markdown",
      "metadata": {
        "id": "mtiZOLZUlxfm"
      },
      "source": [
        "## Question 7\n",
        "\n",
        "Write the function isPerfectSquare(n) that takes a possibly-non-int value, and returns True if it is an int that is a perfect square (that is, if there exists an integer m such that m**2 == n), and False otherwise. Do not crash on non-ints nor on negative ints."
      ]
    },
    {
      "cell_type": "code",
      "execution_count": 30,
      "metadata": {
        "id": "obg5fJv1lxfm"
      },
      "outputs": [],
      "source": [
        "def isPerfectSquare(n):\n",
        "    i = 0\n",
        "    while i**2 <= n:\n",
        "        if i**2 == n:\n",
        "            return True\n",
        "        i += 1\n",
        "    return False"
      ]
    },
    {
      "cell_type": "code",
      "execution_count": 31,
      "metadata": {
        "id": "7soy6Nwulxfm"
      },
      "outputs": [
        {
          "name": "stdout",
          "output_type": "stream",
          "text": [
            "Testing isPerfectSquare()... Passed...\n"
          ]
        }
      ],
      "source": [
        "def testIsPerfectSquare():\n",
        "    print('Testing isPerfectSquare()... ', end='')\n",
        "    assert(isPerfectSquare(0) == True)\n",
        "    assert(isPerfectSquare(16) == True)\n",
        "    assert(isPerfectSquare(24**2) == True)\n",
        "    assert(isPerfectSquare(5) == False)\n",
        "    assert(isPerfectSquare(17) == False)\n",
        "    assert(isPerfectSquare(-16) == False)\n",
        "    assert(isPerfectSquare(4.51) == False)\n",
        "    # you can add more test cases yourself\n",
        "    print('Passed...')\n",
        "\n",
        "testIsPerfectSquare()"
      ]
    },
    {
      "cell_type": "markdown",
      "metadata": {
        "id": "q6_sLT5dlxfm"
      },
      "source": [
        "## Question 8\n",
        "\n",
        "Write the function setKthDigit(n, k, d) that takes three integers -- n, k, and d -- where n is a possibly-negative int, k is a non-negative int, and d is a non-negative single digit (between 0 and 9 inclusive), and returns the number n but with the kth digit replaced with d. Counting starts at 0 and goes right-to-left, so the 0th digit is the rightmost digit. For example:\n",
        "\n",
        " *  setKthDigit(468, 0, 1) returns 461\n",
        " *  setKthDigit(468, 1, 1) returns 418\n",
        " *  setKthDigit(468, 2, 1) returns 168\n",
        " *  setKthDigit(468, 3, 1) returns 1468"
      ]
    },
    {
      "cell_type": "code",
      "execution_count": 41,
      "metadata": {
        "id": "wZ5CBEATlxfm"
      },
      "outputs": [],
      "source": [
        "def setKthDigit(n, k, d):\n",
        "    return n - (n//(10**k))%10*(10**k) + d*(10**k)"
      ]
    },
    {
      "cell_type": "code",
      "execution_count": 42,
      "metadata": {
        "id": "qvMxY_-zlxfm"
      },
      "outputs": [
        {
          "name": "stdout",
          "output_type": "stream",
          "text": [
            "Testing getKthDigit()... Passed...\n"
          ]
        }
      ],
      "source": [
        "def testGetKthDigit():\n",
        "    print('Testing getKthDigit()... ', end='')\n",
        "    assert(setKthDigit(468, 0, 1) == 461)\n",
        "    assert(setKthDigit(468, 1, 1) == 418)\n",
        "    # you can add more test cases yourself\n",
        "    print('Passed...')\n",
        "\n",
        "testGetKthDigit()"
      ]
    },
    {
      "cell_type": "code",
      "execution_count": 43,
      "metadata": {},
      "outputs": [
        {
          "data": {
            "text/plain": [
              "1468"
            ]
          },
          "execution_count": 43,
          "metadata": {},
          "output_type": "execute_result"
        }
      ],
      "source": [
        "setKthDigit(468, 3, 1)"
      ]
    },
    {
      "cell_type": "markdown",
      "metadata": {
        "id": "wapgnhAEnAOX"
      },
      "source": [
        "## Question 9\n",
        "\n",
        "Write the function `longestDigitRun(n)` that takes a possibly-negative int value `n` and returns the digit that has the longest consecutive run,\n",
        "or the smallest such digit if there is a tie. So, `longestDigitRun(117773732)` returns `7` (because there is a run of 3 consecutive 7's), as does longestDigitRun(-677886). To solve this problem, you cannot convert int value to string."
      ]
    },
    {
      "cell_type": "code",
      "execution_count": null,
      "metadata": {
        "id": "wb4soT7VnBrF"
      },
      "outputs": [],
      "source": [
        "def longestDigitRun(n):\n",
        "    ## your code\n",
        "\n",
        "def testLongestDigitRun():\n",
        "    assert(longestDigitRun(117773732) == 7)\n",
        "    assert(longestDigitRun(-677886) == 7)\n",
        "    # other test cases here"
      ]
    },
    {
      "cell_type": "markdown",
      "metadata": {
        "id": "InoFs0MPncAa"
      },
      "source": [
        "## Question 10\n",
        "\n",
        "Given a specific height (where height is a non-negative int), the function prints out (not returns!) an isosceles triangle with the specified height. There should be no spaces between the zeroes that make up the triangle, nor should there be any \"extra\" spaces on any row (so no extra spaces to the right).\n",
        "\n",
        "```\n",
        "zeroTriangle(3)\n",
        "  0\n",
        " 000\n",
        "00000\n",
        "\n",
        "zeroTriangle(5)\n",
        "    0\n",
        "   000\n",
        "  00000\n",
        " 0000000\n",
        "000000000\n",
        "```\n",
        "\n"
      ]
    },
    {
      "cell_type": "code",
      "execution_count": null,
      "metadata": {
        "id": "G4gulL_end-5"
      },
      "outputs": [],
      "source": [
        "def zeroTriangle(height):\n",
        "    ## your code"
      ]
    }
  ],
  "metadata": {
    "colab": {
      "provenance": []
    },
    "kernelspec": {
      "display_name": "Python 3",
      "language": "python",
      "name": "python3"
    },
    "language_info": {
      "codemirror_mode": {
        "name": "ipython",
        "version": 3
      },
      "file_extension": ".py",
      "mimetype": "text/x-python",
      "name": "python",
      "nbconvert_exporter": "python",
      "pygments_lexer": "ipython3",
      "version": "3.10.13"
    }
  },
  "nbformat": 4,
  "nbformat_minor": 0
}
