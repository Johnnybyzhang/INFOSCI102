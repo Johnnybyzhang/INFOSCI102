{
  "cells": [
    {
      "cell_type": "markdown",
      "metadata": {
        "id": "ItRLDSwlonbB"
      },
      "source": [
        "## Question 1\n",
        "For each of the following expressions, what value will the expression give? Verify your answers by typing the expressions into Python or running them on Colab.\n",
        "<pre>\n",
        "1.   9 - 3\n",
        "2.   8 * 2.5\n",
        "3.   9 / 2\n",
        "4.   9 / -2\n",
        "5.   9 // -2\n",
        "6.   9 % 2\n",
        "7.   9.0 % 2\n",
        "8.   9 % 2.0\n",
        "9.   9 % -2\n",
        "10.   -9 % 2\n",
        "11.   9 / -2.0\n",
        "12.   4 + 3 * 5\n",
        "13.   (4 + 3) * 5\n",
        "\n",
        "</pre>"
      ]
    },
    {
      "cell_type": "markdown",
      "metadata": {
        "id": "EjBW87KhonbD"
      },
      "source": [
        "## Question 2\n",
        "\n",
        "1. Is the following line prints True:\n",
        "\n",
        "\n",
        "```\n",
        "print(type(3) == type(\"3\"))\n",
        "```\n",
        "\n",
        "2. Is the following line prints True:\n",
        "\n",
        "\n",
        "\n",
        "```\n",
        "print(str(3) == \"3\")\n",
        "```\n",
        "\n",
        "\n"
      ]
    },
    {
      "cell_type": "markdown",
      "metadata": {
        "id": "Hf6sUlHoonbD"
      },
      "source": [
        "## Question 3\n",
        "\n",
        "Write two assignment statements that do the following:\n",
        "\n",
        "1. Create a new variable, `temp`, and assign it the value 24.\n",
        "\n",
        "2. Convert the value in `temp` from Celsius to Fahrenheit by multiplying by 1.8 and adding 32; make `temp` refer to the resulting value.\n",
        "\n",
        "What is `temp`’s new value?"
      ]
    },
    {
      "cell_type": "code",
      "source": [
        "## Your code and answer"
      ],
      "metadata": {
        "id": "aXO_ghywp59r"
      },
      "execution_count": null,
      "outputs": []
    },
    {
      "cell_type": "markdown",
      "metadata": {
        "id": "j-PUkfbTonbE"
      },
      "source": [
        "## Question 4\n",
        "\n",
        "For each of the following expressions, in which order are the subexpressions evaluated?\n",
        "\n",
        "<pre>\n",
        "1.    6 * 3 + 7 * 4\n",
        "2.    5 + 3 / 4\n",
        "3.    5 - 2 * 3 ** 4\n",
        "</pre>"
      ]
    },
    {
      "cell_type": "code",
      "source": [
        "## Type your answer here"
      ],
      "metadata": {
        "id": "n8N-1aa4p22Z"
      },
      "execution_count": null,
      "outputs": []
    },
    {
      "cell_type": "markdown",
      "metadata": {
        "id": "lITKQOcMonbE"
      },
      "source": [
        "## Question 5\n",
        "\n",
        "1. Create a new variable `x`, and assign it the value 10.5.\n",
        "\n",
        "2. Create a new variable `y`, and assign it the value 4.\n",
        "\n",
        "3. Sum `x` and `y`, and make `x` refer to the resulting value. After this statement has been executed, what are the values of `x` and `y`?"
      ]
    },
    {
      "cell_type": "markdown",
      "metadata": {
        "id": "WGBgEM15onbE"
      },
      "source": [
        "## Question 6\n",
        "Write a bullet list description of what happens when Python evaluates the statement `x += x - x` when x has the value 3."
      ]
    },
    {
      "cell_type": "code",
      "source": [],
      "metadata": {
        "id": "K9nWc_ddqIky"
      },
      "execution_count": null,
      "outputs": []
    }
  ],
  "metadata": {
    "kernelspec": {
      "display_name": "Python 3",
      "language": "python",
      "name": "python3"
    },
    "language_info": {
      "codemirror_mode": {
        "name": "ipython",
        "version": 3
      },
      "file_extension": ".py",
      "mimetype": "text/x-python",
      "name": "python",
      "nbconvert_exporter": "python",
      "pygments_lexer": "ipython3",
      "version": "3.7.3"
    },
    "colab": {
      "provenance": []
    }
  },
  "nbformat": 4,
  "nbformat_minor": 0
}