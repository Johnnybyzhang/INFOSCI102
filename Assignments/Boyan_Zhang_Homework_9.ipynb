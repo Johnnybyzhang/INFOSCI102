{
 "cells": [
  {
   "cell_type": "markdown",
   "metadata": {
    "id": "qJFcbtUEQ60Z"
   },
   "source": [
    "## Question 1\n",
    "\n",
    "Without using os.walk, write the recursive function findLargestFile(path), which takes a string path to a folder and returns the full path to the largest file in terms of bytes in the folder (and all its subfolders). You can compute the size of a file using os.path.getsize(path). If there are no files, the empty string (\"\") is returned. You do not need to handle the case where the supplied path is not valid or is not a folder, and you may handle ties however you wish.\n",
    "\n",
    "Note that file systems can be very large, so in this problem, efficiency is important! Therefore, you may not use listFiles (or anything similar) to gather all the files into one place, and you should avoid calling os.path.getsize on a single file more than once.\n",
    "\n",
    "Also note that some file systems list files in different orders than other file systems. Because of this, you need to be sure that your solution does not depend on the order in which your file system lists the files in a folder.\n",
    "\n",
    "To help test your code, here are some assertions for use with sampleFiles (available in sampleFiles.zip) at [here](https://www.dropbox.com/scl/fi/dlmvl4momg88cla91c1pw/sampleFiles.zip?rlkey=9odva8hwfezwfnsm7p3l6q8eq&dl=0).\n"
   ]
  },
  {
   "cell_type": "code",
   "execution_count": 26,
   "metadata": {},
   "outputs": [],
   "source": [
    "import os\n",
    "\n",
    "def findLargestFile(path):\n",
    "    \"\"\"\n",
    "    Recursively finds the largest file in terms of size (bytes) in the given path and its subfolders.\n",
    "    If there are no files, returns an empty string.\n",
    "    Does not depend on the order of file listing by the file system.\n",
    "    \"\"\"\n",
    "    largest_file = \"\"\n",
    "    largest_size = 0\n",
    "\n",
    "    for item in os.listdir(path):\n",
    "        full_path = os.path.join(path, item)\n",
    "        if os.path.isdir(full_path):\n",
    "            # Recursively search in subdirectories\n",
    "            sub_largest = findLargestFile(full_path)\n",
    "            if sub_largest:\n",
    "                sub_size = os.path.getsize(sub_largest)\n",
    "                if sub_size > largest_size:\n",
    "                    largest_size = sub_size\n",
    "                    largest_file = sub_largest\n",
    "        elif os.path.isfile(full_path):\n",
    "            if item.startswith('.'):\n",
    "                # Ignore hidden files\n",
    "                continue\n",
    "            # Update largest file if this file is larger\n",
    "            file_size = os.path.getsize(full_path)\n",
    "            if file_size > largest_size:\n",
    "                largest_size = file_size\n",
    "                largest_file = full_path\n",
    "\n",
    "    return largest_file\n"
   ]
  },
  {
   "cell_type": "code",
   "execution_count": 27,
   "metadata": {},
   "outputs": [
    {
     "data": {
      "text/plain": [
       "'sampleFiles/folderA/folderC/giftwrap.txt'"
      ]
     },
     "execution_count": 27,
     "metadata": {},
     "output_type": "execute_result"
    }
   ],
   "source": [
    "findLargestFile(\"sampleFiles/folderA\")"
   ]
  },
  {
   "cell_type": "code",
   "execution_count": 28,
   "metadata": {},
   "outputs": [],
   "source": [
    "assert(findLargestFile(\"sampleFiles/folderA\") ==\n",
    "                       \"sampleFiles/folderA/folderC/giftwrap.txt\")\n",
    "assert(findLargestFile(\"sampleFiles/folderB\") ==\n",
    "                       \"sampleFiles/folderB/folderH/driving.txt\")\n",
    "assert(findLargestFile(\"sampleFiles/folderB/folderF\") == \"\")"
   ]
  },
  {
   "cell_type": "markdown",
   "metadata": {},
   "source": [
    "## Question 2\n",
    "\n",
    "Write the class `Person` so that the following test code passes: "
   ]
  },
  {
   "cell_type": "code",
   "execution_count": 35,
   "metadata": {},
   "outputs": [],
   "source": [
    "class Person:\n",
    "    def __init__(self, name, age):\n",
    "        \"\"\"\n",
    "        Initializes a new Person object with a name and age.\n",
    "        \"\"\"\n",
    "        self.name = name\n",
    "        self.age = age\n",
    "        self.friends = []\n",
    "\n",
    "    def getName(self):\n",
    "        \"\"\"\n",
    "        Returns the name of the person.\n",
    "        \"\"\"\n",
    "        return self.name\n",
    "\n",
    "    def getAge(self):\n",
    "        \"\"\"\n",
    "        Returns the age of the person.\n",
    "        \"\"\"\n",
    "        return self.age\n",
    "\n",
    "    def getFriends(self):\n",
    "        \"\"\"\n",
    "        Returns a list of Person objects who are friends of this person.\n",
    "        \"\"\"\n",
    "        return self.friends\n",
    "\n",
    "    def getFriendsNames(self):\n",
    "        \"\"\"\n",
    "        Returns a sorted list of the names of the friends of this person.\n",
    "        \"\"\"\n",
    "        return sorted([friend.getName() for friend in self.friends])\n",
    "\n",
    "    def addFriend(self, person):\n",
    "        \"\"\"\n",
    "        Adds a person to the friends list, if not already present.\n",
    "        Mutual friendship is ensured.\n",
    "        \"\"\"\n",
    "        if person not in self.friends:\n",
    "            self.friends.append(person)\n",
    "            person.addFriend(self)  # Ensuring mutual friendship\n",
    "    \n",
    "    def addFriends(self, person):\n",
    "        \"\"\"\n",
    "        Adds a list of people to the friends list, if not already present.\n",
    "        Mutual friendship is ensured.\n",
    "        \"\"\"\n",
    "        for frend in person.getFriends():\n",
    "            self.addFriend(frend)"
   ]
  },
  {
   "cell_type": "code",
   "execution_count": 36,
   "metadata": {},
   "outputs": [
    {
     "name": "stdout",
     "output_type": "stream",
     "text": [
      "Testing Person Class...Passed!\n"
     ]
    }
   ],
   "source": [
    "def testPersonClass():\n",
    "    print('Testing Person Class...', end='')\n",
    "    fred = Person('fred', 32)\n",
    "    assert(isinstance(fred, Person))\n",
    "    assert(fred.getName() == 'fred')\n",
    "    assert(fred.getAge() == 32)\n",
    "    # Note: person.getFriends() returns a list of Person objects who\n",
    "    #       are the friends of this person, listed in the order that\n",
    "    #       they were added.\n",
    "    # Note: person.getFriendNames() returns a list of strings, the\n",
    "    #       names of the friends of this person.  This list is sorted!\n",
    "    assert(fred.getFriends() == [ ])\n",
    "    assert(fred.getFriendsNames() == [ ])\n",
    "\n",
    "    wilma = Person('wilma', 35)\n",
    "    assert(wilma.getName() == 'wilma')\n",
    "    assert(wilma.getAge() == 35)\n",
    "    assert(wilma.getFriends() == [ ])\n",
    "\n",
    "    wilma.addFriend(fred)\n",
    "    assert(wilma.getFriends() == [fred])\n",
    "    assert(wilma.getFriendsNames() == ['fred'])\n",
    "    assert(fred.getFriends() == [wilma]) # friends are mutual!\n",
    "    assert(fred.getFriendsNames() == ['wilma'])\n",
    "\n",
    "    wilma.addFriend(fred)\n",
    "    assert(wilma.getFriends() == [fred]) # don't add twice!\n",
    "\n",
    "    betty = Person('betty', 29)\n",
    "    fred.addFriend(betty)\n",
    "    assert(fred.getFriendsNames() == ['betty', 'wilma'])\n",
    "\n",
    "    pebbles = Person('pebbles', 4)\n",
    "    betty.addFriend(pebbles)\n",
    "    assert(betty.getFriendsNames() == ['fred', 'pebbles'])\n",
    "\n",
    "    barney = Person('barney', 28)\n",
    "    barney.addFriend(pebbles)\n",
    "    barney.addFriend(betty)\n",
    "    barney.addFriends(fred) # add ALL of Fred's friends as Barney's friends\n",
    "    assert(barney.getFriends() == [pebbles, betty, wilma])\n",
    "    assert(barney.getFriendsNames() == ['betty', 'pebbles', 'wilma'])\n",
    "    fred.addFriend(wilma)\n",
    "    fred.addFriend(barney)\n",
    "    assert(fred.getFriends() == [wilma, betty, barney])\n",
    "    assert(fred.getFriendsNames() == ['barney', 'betty', 'wilma']) # sorted!\n",
    "    assert(barney.getFriends() == [pebbles, betty, wilma, fred])\n",
    "    assert(barney.getFriendsNames() == ['betty', 'fred', 'pebbles', 'wilma'])\n",
    "    print('Passed!')\n",
    "\n",
    "testPersonClass()"
   ]
  },
  {
   "cell_type": "markdown",
   "metadata": {},
   "source": [
    "## Question 3\n",
    "\n",
    "You are tasked with creating a simple class to represent a basic bank account. Create a Python class named `BankAccount` with the following attributes and methods:\n",
    "\n",
    "Attributes:\n",
    "\n",
    "`account_number`: a unique identifier for each account\n",
    "`account_holder`: the name of the account holder\n",
    "`balance`: the current balance in the account, initially set to 0\n",
    "\n",
    "Methods:\n",
    "\n",
    "`deposit(amount)`: This method should take an amount as input and add it to the current balance.\n",
    "`withdraw(amount)`: This method should take an amount as input and subtract it from the current balance if there are sufficient funds. If the withdrawal amount exceeds the balance, display an error message.\n",
    "`get_balance()`: This method should return the current balance.\n",
    "\n",
    "Write the BankAccount class and demonstrate its usage by creating an instance of the class, performing some deposits and withdrawals, and displaying the final balance."
   ]
  },
  {
   "cell_type": "code",
   "execution_count": 37,
   "metadata": {},
   "outputs": [],
   "source": [
    "class BankAccount:\n",
    "    def __init__(self, account_number, account_holder):\n",
    "        \"\"\"\n",
    "        Initializes a new BankAccount object with an account number and holder's name.\n",
    "        The balance is initially set to zero.\n",
    "        \"\"\"\n",
    "        self.account_number = account_number\n",
    "        self.account_holder = account_holder\n",
    "        self.balance = 0\n",
    "\n",
    "    def deposit(self, amount):\n",
    "        \"\"\"\n",
    "        Adds the specified amount to the current balance.\n",
    "        \"\"\"\n",
    "        self.balance += amount\n",
    "\n",
    "    def withdraw(self, amount):\n",
    "        \"\"\"\n",
    "        Subtracts the amount from the current balance if sufficient funds are available.\n",
    "        Otherwise, displays an error message.\n",
    "        \"\"\"\n",
    "        if amount > self.balance:\n",
    "            print(\"Error: Insufficient funds for withdrawal.\")\n",
    "        else:\n",
    "            self.balance -= amount\n",
    "\n",
    "    def get_balance(self):\n",
    "        \"\"\"\n",
    "        Returns the current balance.\n",
    "        \"\"\"\n",
    "        return self.balance"
   ]
  },
  {
   "cell_type": "code",
   "execution_count": 38,
   "metadata": {},
   "outputs": [
    {
     "name": "stdout",
     "output_type": "stream",
     "text": [
      "Error: Insufficient funds for withdrawal.\n"
     ]
    }
   ],
   "source": [
    "account1 = BankAccount(\"123456\", \"John Doe\")\n",
    "assert(account1.get_balance() == 0)\n",
    "\n",
    "account1.deposit(1000)\n",
    "assert account1.get_balance() == 1000\n",
    "\n",
    "account1.withdraw(500)\n",
    "assert account1.get_balance() == 500\n",
    "\n",
    "# Edge case: Attempt to withdraw more money than the balance\n",
    "# The balance should remain the same, and an error message should be displayed\n",
    "account1.withdraw(1000)\n",
    "assert account1.get_balance() == 500\n",
    "\n",
    "# Create another bank account\n",
    "account2 = BankAccount(\"789012\", \"Jane Smith\")\n",
    "assert account2.get_balance() == 0\n",
    "\n",
    "account2.deposit(500)\n",
    "assert account2.get_balance() == 500\n",
    "\n",
    "account2.withdraw(200)\n",
    "assert account2.get_balance() == 300\n"
   ]
  },
  {
   "cell_type": "markdown",
   "metadata": {},
   "source": [
    "## Question 4\n",
    "\n",
    "Write the function `containsAliases(L)` that takes a 2d list L (that you can assume is rectangular) and returns True if any two rows in L are aliases of each other, and False otherwise. For example:\n",
    "\n",
    "```\n",
    "M = [1, 2]\n",
    "L = [ [3, 4], [5, 6], M, [7, 8], M ] # contains aliases!\n",
    "print(containsAliases(L)) # True\n",
    "```\n",
    "\n",
    "And:\n",
    "```\n",
    "M = [1, 2]\n",
    "L = [ [3, 4], [5, 6], M, [7, 8], [1, 2] ] # contains no aliases!\n",
    "print(containsAliases(L)) # False\n",
    "\n",
    "```"
   ]
  },
  {
   "cell_type": "code",
   "execution_count": 39,
   "metadata": {},
   "outputs": [],
   "source": [
    "## your code\n",
    "def containsAliases(L):\n",
    "    \"\"\"\n",
    "    Checks if any two rows in the 2D list L are aliases of each other.\n",
    "    Returns True if aliases are found, False otherwise.\n",
    "    \"\"\"\n",
    "    seen_rows = set()\n",
    "    for row in L:\n",
    "        if id(row) in seen_rows:\n",
    "            return True\n",
    "        seen_rows.add(id(row))\n",
    "    return False"
   ]
  },
  {
   "cell_type": "code",
   "execution_count": 40,
   "metadata": {},
   "outputs": [
    {
     "name": "stdout",
     "output_type": "stream",
     "text": [
      "Test containsAliases...Passed...\n"
     ]
    }
   ],
   "source": [
    "def testContainsAliases():\n",
    "    print(\"Test containsAliases...\", end=\"\")\n",
    "    M = [1, 2]\n",
    "    L = [ [3, 4], [5, 6], M, [7, 8], M ] # contains aliases!\n",
    "    assert(containsAliases(L) == True) \n",
    "    N = [ [3, 4], [5, 6], M, [7, 8], [1, 2] ] \n",
    "    assert(containsAliases(N) == False)\n",
    "    L1 = [[1, 2], [3, 4], [5, 6]]\n",
    "    assert(containsAliases(L1) == False)  # Expected output: False\n",
    "    M = [7, 8]\n",
    "    L2 = [[1, 2], M, M, [3, 4]]\n",
    "    assert(containsAliases(L2) == True)  # Expected output: True\n",
    "    print(\"Passed...\")\n",
    "\n",
    "testContainsAliases()"
   ]
  },
  {
   "cell_type": "markdown",
   "metadata": {},
   "source": [
    "## Question 5\n",
    "\n",
    "Background: we can create a dictionary mapping people to sets of their friends. For example, we might say:\n",
    "\n",
    "```\n",
    "d = { }\n",
    "d[\"jon\"] = set([\"arya\", \"tyrion\"])\n",
    "d[\"tyrion\"] = set([\"jon\", \"jaime\", \"pod\"])\n",
    "d[\"arya\"] = set([\"jon\"])\n",
    "d[\"jaime\"] = set([\"tyrion\", \"brienne\"])\n",
    "d[\"brienne\"] = set([\"jaime\", \"pod\"])\n",
    "d[\"pod\"] = set([\"tyrion\", \"brienne\", \"jaime\"])\n",
    "d[\"ramsay\"] = set()\n",
    "```\n",
    "With this in mind, write the nondestructive function friendsOfFriends(d) that takes such a dictionary mapping people to sets of friends and returns a new dictionary mapping all the same people to sets of their friends-of-friends. For example, since Tyrion is a friend of Pod, and Jon is a friend of Tyrion, Jon is a friend-of-friend of Pod. This set should exclude any direct friends, so Jaime does not count as a friend-of-friend of Pod (since he is simply a friend of Pod) despite also being a friend of Tyrion's. Additionally, a person cannot be a friend or a friend-of-friend of themself.\n",
    "\n",
    "\n",
    "Thus, in this example, friendsOfFriends should return:\n",
    "\n",
    "```\n",
    "{\n",
    " 'tyrion': {'arya', 'brienne'}, \n",
    " 'pod': {'jon'}, \n",
    " 'brienne': {'tyrion'}, \n",
    " 'arya': {'tyrion'}, \n",
    " 'jon': {'pod', 'jaime'}, \n",
    " 'jaime': {'pod', 'jon'}, \n",
    " 'ramsay': set()\n",
    "}\n",
    "```"
   ]
  },
  {
   "cell_type": "code",
   "execution_count": 43,
   "metadata": {},
   "outputs": [],
   "source": [
    "## your code\n",
    "# /path/to/friends_of_friends.py\n",
    "\n",
    "def friendsOfFriends(d):\n",
    "    \"\"\"\n",
    "    Takes a dictionary mapping people to sets of friends and returns a new dictionary mapping \n",
    "    people to sets of their friends-of-friends, excluding direct friends and themselves.\n",
    "    \"\"\"\n",
    "    friends_of_friends = {}\n",
    "    for person in d:\n",
    "        friends_of_friends[person] = set()\n",
    "        for friend in d[person]:\n",
    "            # Add friends of this friend, excluding direct friends and the person themselves\n",
    "            friends_of_friends[person].update(d[friend] - d[person] - {person})\n",
    "    return friends_of_friends\n"
   ]
  },
  {
   "cell_type": "code",
   "execution_count": 44,
   "metadata": {},
   "outputs": [
    {
     "name": "stdout",
     "output_type": "stream",
     "text": [
      "Testing friendsOfFriends...Passed!\n"
     ]
    }
   ],
   "source": [
    "def testFriendsOfFriends():\n",
    "    print(\"Testing friendsOfFriends...\", end=\"\")\n",
    "    d = { }\n",
    "    d[\"jon\"] = set([\"arya\", \"tyrion\"])\n",
    "    d[\"tyrion\"] = set([\"jon\", \"jaime\", \"pod\"])\n",
    "    d[\"arya\"] = set([\"jon\"])\n",
    "    d[\"jaime\"] = set([\"tyrion\", \"brienne\"])\n",
    "    d[\"brienne\"] = set([\"jaime\", \"pod\"])\n",
    "    d[\"pod\"] = set([\"tyrion\", \"brienne\", \"jaime\"])\n",
    "    d[\"ramsay\"] = set()\n",
    "    assert(friendsOfFriends(d) == \n",
    "           {'tyrion': {'arya', 'brienne'}, \n",
    "            'pod': {'jon'}, \n",
    "            'brienne': {'tyrion'}, \n",
    "            'arya': {'tyrion'}, \n",
    "            'jon': {'pod', 'jaime'}, \n",
    "            'jaime': {'pod', 'jon'}, \n",
    "            'ramsay': set()})\n",
    "    print(\"Passed!\")\n",
    "testFriendsOfFriends()\n"
   ]
  }
 ],
 "metadata": {
  "colab": {
   "collapsed_sections": [],
   "name": "Lab9_without_solutions.ipynb",
   "provenance": []
  },
  "kernelspec": {
   "display_name": "Python 3",
   "language": "python",
   "name": "python3"
  },
  "language_info": {
   "codemirror_mode": {
    "name": "ipython",
    "version": 3
   },
   "file_extension": ".py",
   "mimetype": "text/x-python",
   "name": "python",
   "nbconvert_exporter": "python",
   "pygments_lexer": "ipython3",
   "version": "3.10.13"
  }
 },
 "nbformat": 4,
 "nbformat_minor": 1
}
