{
 "cells": [
  {
   "cell_type": "markdown",
   "metadata": {},
   "source": [
    "## INFOSCI 102 QUIZ 2 PREP"
   ]
  },
  {
   "cell_type": "markdown",
   "metadata": {},
   "source": [
    "## Demo 4 For Loops"
   ]
  },
  {
   "cell_type": "code",
   "execution_count": 7,
   "metadata": {},
   "outputs": [
    {
     "name": "stdout",
     "output_type": "stream",
     "text": [
      "True\n"
     ]
    }
   ],
   "source": [
    "## Demo 4: \n",
    "\n",
    "def sumFromMToN(m, n):\n",
    "    total = 0\n",
    "    for x in range(m, n+1):\n",
    "        total += x\n",
    "    return total\n",
    "\n",
    "print(sumFromMToN(5, 10) == 5+6+7+8+9+10)\n",
    "\n",
    "## What does this print?"
   ]
  },
  {
   "cell_type": "code",
   "execution_count": 8,
   "metadata": {},
   "outputs": [
    {
     "name": "stdout",
     "output_type": "stream",
     "text": [
      "True\n"
     ]
    }
   ],
   "source": [
    "def sumEveryKthFromMToN(m, n, k):\n",
    "    total = 0\n",
    "    for x in range(m, n+1, k):\n",
    "        total += x\n",
    "    return total\n",
    "\n",
    "print(sumEveryKthFromMToN(5, 20, 7) == (5 + 12 + 19))\n",
    "\n",
    "## What does this print?"
   ]
  },
  {
   "cell_type": "code",
   "execution_count": null,
   "metadata": {},
   "outputs": [],
   "source": [
    "def printMysteryStarShape(n):\n",
    "    for row in range(n):\n",
    "        print(row, end=\" \")\n",
    "        for col in range(row):\n",
    "            print(\"*\", end=\" \")\n",
    "        print()\n",
    "\n",
    "printMysteryStarShape(5)\n",
    "\n",
    "## What would this do and print?"
   ]
  },
  {
   "cell_type": "code",
   "execution_count": 9,
   "metadata": {},
   "outputs": [
    {
     "name": "stdout",
     "output_type": "stream",
     "text": [
      "False\n"
     ]
    },
    {
     "name": "stdout",
     "output_type": "stream",
     "text": [
      "\u001b[0;31mSignature:\u001b[0m \u001b[0mprint\u001b[0m\u001b[0;34m(\u001b[0m\u001b[0;34m*\u001b[0m\u001b[0margs\u001b[0m\u001b[0;34m,\u001b[0m \u001b[0msep\u001b[0m\u001b[0;34m=\u001b[0m\u001b[0;34m' '\u001b[0m\u001b[0;34m,\u001b[0m \u001b[0mend\u001b[0m\u001b[0;34m=\u001b[0m\u001b[0;34m'\\n'\u001b[0m\u001b[0;34m,\u001b[0m \u001b[0mfile\u001b[0m\u001b[0;34m=\u001b[0m\u001b[0;32mNone\u001b[0m\u001b[0;34m,\u001b[0m \u001b[0mflush\u001b[0m\u001b[0;34m=\u001b[0m\u001b[0;32mFalse\u001b[0m\u001b[0;34m)\u001b[0m\u001b[0;34m\u001b[0m\u001b[0;34m\u001b[0m\u001b[0m\n",
      "\u001b[0;31mDocstring:\u001b[0m\n",
      "Prints the values to a stream, or to sys.stdout by default.\n",
      "\n",
      "sep\n",
      "  string inserted between values, default a space.\n",
      "end\n",
      "  string appended after the last value, default a newline.\n",
      "file\n",
      "  a file-like object (stream); defaults to the current sys.stdout.\n",
      "flush\n",
      "  whether to forcibly flush the stream.\n",
      "\u001b[0;31mType:\u001b[0m      builtin_function_or_method"
     ]
    }
   ],
   "source": [
    "def sumOfOddsFromMToN(m, n, k, j):\n",
    "    total = 0\n",
    "    for x in range(m, n+1, k):\n",
    "      if x%j != 0:\n",
    "        total += x\n",
    "    return total\n",
    "\n",
    "\n",
    "print(sumOfOddsFromMToN(5, 20, 7, 4) == (5 + 12 + 19))\n",
    "\n",
    "## What does this print?"
   ]
  },
  {
   "cell_type": "markdown",
   "metadata": {},
   "source": [
    "## Demo 5 Strings"
   ]
  },
  {
   "cell_type": "code",
   "execution_count": 10,
   "metadata": {},
   "outputs": [
    {
     "name": "stdout",
     "output_type": "stream",
     "text": [
      "repr s1:  'abcdef'\n",
      "repr s2:  'abcdef             \\t'\n"
     ]
    }
   ],
   "source": [
    "s1=\"abcdef\"\n",
    "s2=\"abcdef             \\t\"\n",
    "\n",
    "\n",
    "print(\"repr s1: \",repr(s1))\n",
    "print(\"repr s2: \",repr(s2))\n",
    "\n",
    "## What would this print?"
   ]
  },
  {
   "cell_type": "code",
   "execution_count": 11,
   "metadata": {},
   "outputs": [
    {
     "name": "stdout",
     "output_type": "stream",
     "text": [
      "abcdef\n",
      "abcabcabc\n"
     ]
    },
    {
     "ename": "TypeError",
     "evalue": "can only concatenate str (not \"int\") to str",
     "output_type": "error",
     "traceback": [
      "\u001b[0;31m---------------------------------------------------------------------------\u001b[0m",
      "\u001b[0;31mTypeError\u001b[0m                                 Traceback (most recent call last)",
      "\u001b[1;32m/Users/chloealimurong/infosci102/Quiz2Prep.ipynb Cell 9\u001b[0m line \u001b[0;36m3\n\u001b[1;32m      <a href='vscode-notebook-cell:/Users/chloealimurong/infosci102/Quiz2Prep.ipynb#X15sZmlsZQ%3D%3D?line=0'>1</a>\u001b[0m \u001b[39mprint\u001b[39m(\u001b[39m\"\u001b[39m\u001b[39mabc\u001b[39m\u001b[39m\"\u001b[39m \u001b[39m+\u001b[39m \u001b[39m\"\u001b[39m\u001b[39mdef\u001b[39m\u001b[39m\"\u001b[39m)  \u001b[39m# What do you think this should do?\u001b[39;00m\n\u001b[1;32m      <a href='vscode-notebook-cell:/Users/chloealimurong/infosci102/Quiz2Prep.ipynb#X15sZmlsZQ%3D%3D?line=1'>2</a>\u001b[0m \u001b[39mprint\u001b[39m(\u001b[39m\"\u001b[39m\u001b[39mabc\u001b[39m\u001b[39m\"\u001b[39m \u001b[39m*\u001b[39m \u001b[39m3\u001b[39m)  \u001b[39m# How many characters do you think this prints?\u001b[39;00m\n\u001b[0;32m----> <a href='vscode-notebook-cell:/Users/chloealimurong/infosci102/Quiz2Prep.ipynb#X15sZmlsZQ%3D%3D?line=2'>3</a>\u001b[0m \u001b[39mprint\u001b[39m(\u001b[39m\"\u001b[39;49m\u001b[39mabc\u001b[39;49m\u001b[39m\"\u001b[39;49m \u001b[39m+\u001b[39;49m \u001b[39m3\u001b[39;49m)  \u001b[39m# ...will this give us an error? (Yes)\u001b[39;00m\n",
      "\u001b[0;31mTypeError\u001b[0m: can only concatenate str (not \"int\") to str"
     ]
    }
   ],
   "source": [
    "print(\"abc\" + \"def\")  # What do you think this should do?\n",
    "print(\"abc\" * 3)  # How many characters do you think this prints?\n",
    "print(\"abc\" + 3)  # ...will this give us an error?"
   ]
  },
  {
   "cell_type": "code",
   "execution_count": 12,
   "metadata": {},
   "outputs": [
    {
     "name": "stdout",
     "output_type": "stream",
     "text": [
      "True\n",
      "False\n",
      "False\n",
      "True\n"
     ]
    }
   ],
   "source": [
    "print(\"ring\" in \"strings\")\n",
    "print(\"wow\" in \"amazing!\")\n",
    "print(\"Yes\" in \"yes!\")\n",
    "print(\"\" in \"No way!\")\n",
    "\n",
    "## What would these print?"
   ]
  },
  {
   "cell_type": "code",
   "execution_count": 2,
   "metadata": {},
   "outputs": [
    {
     "name": "stdout",
     "output_type": "stream",
     "text": [
      "3\n",
      "4\n",
      "5\n",
      "6\n",
      "7\n"
     ]
    }
   ],
   "source": [
    "s = \"abcdefgh\"\n",
    "print(s[0])\n",
    "print(s[2])\n",
    "print(s[len(s)-1])\n",
    "print(s[len(s)])\n",
    "\n",
    "## What would these print?"
   ]
  },
  {
   "cell_type": "code",
   "execution_count": null,
   "metadata": {},
   "outputs": [],
   "source": [
    "s = \"abcdefgh\"\n",
    "print(s[:3])\n",
    "print(s[:])\n",
    "\n",
    "print(s[1:7:2])\n",
    "print(s[1:7:3])\n",
    "\n",
    "## What would these print?"
   ]
  },
  {
   "cell_type": "code",
   "execution_count": 13,
   "metadata": {},
   "outputs": [
    {
     "ename": "TypeError",
     "evalue": "'str' object does not support item assignment",
     "output_type": "error",
     "traceback": [
      "\u001b[0;31m---------------------------------------------------------------------------\u001b[0m",
      "\u001b[0;31mTypeError\u001b[0m                                 Traceback (most recent call last)",
      "\u001b[1;32m/Users/chloealimurong/infosci102/Quiz2Prep.ipynb Cell 13\u001b[0m line \u001b[0;36m2\n\u001b[1;32m      <a href='vscode-notebook-cell:/Users/chloealimurong/infosci102/Quiz2Prep.ipynb#W6sZmlsZQ%3D%3D?line=0'>1</a>\u001b[0m s \u001b[39m=\u001b[39m \u001b[39m\"\u001b[39m\u001b[39mabcde\u001b[39m\u001b[39m\"\u001b[39m\n\u001b[0;32m----> <a href='vscode-notebook-cell:/Users/chloealimurong/infosci102/Quiz2Prep.ipynb#W6sZmlsZQ%3D%3D?line=1'>2</a>\u001b[0m s[\u001b[39m2\u001b[39;49m] \u001b[39m=\u001b[39m \u001b[39m\"\u001b[39m\u001b[39mz\u001b[39m\u001b[39m\"\u001b[39m\n\u001b[1;32m      <a href='vscode-notebook-cell:/Users/chloealimurong/infosci102/Quiz2Prep.ipynb#W6sZmlsZQ%3D%3D?line=3'>4</a>\u001b[0m \u001b[39m## What would happen?\u001b[39;00m\n",
      "\u001b[0;31mTypeError\u001b[0m: 'str' object does not support item assignment"
     ]
    }
   ],
   "source": [
    "s = \"abcde\"\n",
    "s[2] = \"z\"\n",
    "\n",
    "## What would happen?"
   ]
  },
  {
   "cell_type": "markdown",
   "metadata": {},
   "source": [
    "## Demo 6 Lists"
   ]
  },
  {
   "cell_type": "code",
   "execution_count": 14,
   "metadata": {},
   "outputs": [
    {
     "name": "stdout",
     "output_type": "stream",
     "text": [
      "a[0:2]   = [2, 3]\n",
      "a[1:4]   = [3, 5, 7]\n",
      "a[1:6:2] = [3, 7, 13]\n"
     ]
    }
   ],
   "source": [
    "a = [2, 3, 5, 7, 11, 13]\n",
    "\n",
    "print(\"a[0:2]   =\", a[0:2])\n",
    "print(\"a[1:4]   =\", a[1:4])\n",
    "print(\"a[1:6:2] =\", a[1:6:2])\n",
    "\n",
    "## What happens when you run this code?"
   ]
  },
  {
   "cell_type": "code",
   "execution_count": 15,
   "metadata": {},
   "outputs": [
    {
     "name": "stdout",
     "output_type": "stream",
     "text": [
      "[42, 99, 5, 7]\n",
      "[42, 99, 5, 7]\n"
     ]
    }
   ],
   "source": [
    "a = [ 2, 3, 5, 7 ]\n",
    "\n",
    "b = a\n",
    "\n",
    "a[0] = 42\n",
    "b[1] = 99\n",
    "print(a)\n",
    "print(b)\n",
    "\n",
    "## What prints as a result?"
   ]
  },
  {
   "cell_type": "code",
   "execution_count": null,
   "metadata": {},
   "outputs": [],
   "source": [
    "print(\"  a==b  :\", a==b)\n",
    "print(\"  a==c  :\", a==c)\n",
    "print(\"  a is b:\", a is b)\n",
    "print(\"  a is c:\", a is c)\n",
    "\n",
    "## What are the results?"
   ]
  },
  {
   "cell_type": "code",
   "execution_count": null,
   "metadata": {},
   "outputs": [],
   "source": [
    "# Destructive and non-Destructive\n",
    "\n",
    "a = [1, 2, 3, 4]\n",
    "\n",
    "a.remove(2)\n",
    "print(a)\n",
    "\n",
    "a.append(70)\n",
    "print(a)\n",
    "\n",
    "## What happens and which one is which?"
   ]
  },
  {
   "cell_type": "code",
   "execution_count": null,
   "metadata": {},
   "outputs": [],
   "source": [
    "a = [ 2, 3, 5, 2, 6, 2, 2, 7 ]\n",
    "\n",
    "print(\"4 in a =\", (4 in a))\n",
    "print(\"2 not in a =\", (2 not in a))\n",
    "\n",
    "## What prints out?"
   ]
  },
  {
   "cell_type": "code",
   "execution_count": null,
   "metadata": {},
   "outputs": [],
   "source": [
    "a = [ 2, 3, 5, 2, 6, 2, 2, 7 ]\n",
    "\n",
    "print(\"a.count(3) =\", a.count(3))\n",
    "\n",
    "print(\"a.index(2,1) =\", a.index(2,1))\n",
    "print(\"a.index(2,4) =\", a.index(2,4))\n",
    "\n",
    "## What are the results?"
   ]
  },
  {
   "cell_type": "code",
   "execution_count": null,
   "metadata": {},
   "outputs": [],
   "source": [
    "a = [ 2, 3, 5, 7 ]\n",
    "for index in range(len(a)):\n",
    "    index = len(a) - 1 - index # reverse\n",
    "    print(\"a[\", index, \"] =\", a[index])\n",
    "\n",
    "## What does this do and what does this print?"
   ]
  },
  {
   "cell_type": "code",
   "execution_count": null,
   "metadata": {},
   "outputs": [],
   "source": [
    "# List Comprehensions\n",
    "\n",
    "a = [i for i in range(10)]\n",
    "print(a)\n",
    "\n",
    "\n",
    "a = [(i*100) for i in range(20) if i%5 == 0]\n",
    "print(a)\n",
    "\n",
    "## What do these print?"
   ]
  },
  {
   "cell_type": "code",
   "execution_count": null,
   "metadata": {},
   "outputs": [],
   "source": [
    "a = [ [ 2, 3, 5] , [ 1, 4, 7 ] ]\n",
    "rows = len(a)\n",
    "cols = len(a[0])\n",
    "\n",
    "for row in range(rows):\n",
    "    for col in range(cols):\n",
    "        a[row][col] += 1\n",
    "\n",
    "\n",
    "## What is a before and after running the function?"
   ]
  },
  {
   "cell_type": "markdown",
   "metadata": {},
   "source": [
    "## Demo 8 Code Tracing"
   ]
  },
  {
   "cell_type": "code",
   "execution_count": null,
   "metadata": {},
   "outputs": [],
   "source": [
    "def ct1(x, y):\n",
    "    print((x//10) % ((y%10)**3))\n",
    "    if (x > y):\n",
    "        return isinstance(x/10, type(x))\n",
    "\n",
    "print(ct1(137,42))\n",
    "print(ct1(42, 731))"
   ]
  },
  {
   "cell_type": "code",
   "execution_count": null,
   "metadata": {},
   "outputs": [],
   "source": [
    "def f(z):\n",
    "    return 2*z\n",
    "\n",
    "def g(z):\n",
    "    z += 1\n",
    "    return z/2\n",
    "\n",
    "def h(z):\n",
    "    if (z > 3):\n",
    "        return z + f(g(z))\n",
    "    else:\n",
    "        return g(z)\n",
    "\n",
    "def ct2(z):\n",
    "    print(h(z-1))\n",
    "    z *= 2\n",
    "    return h(z)\n",
    "\n",
    "print(ct2(3))"
   ]
  },
  {
   "cell_type": "code",
   "execution_count": null,
   "metadata": {},
   "outputs": [],
   "source": [
    "def f(x1, x2, n):\n",
    "    d1 = (x1 // (10**n)) % 10\n",
    "    d2 = (x2 // (10**n)) % 10\n",
    "    if ((d1 > d2) and (d1 > 5)):\n",
    "        return d1\n",
    "    elif (d2 > d1):\n",
    "        return d2\n",
    "    elif ((d1 == 0) and (d2 == 0)):\n",
    "        return 42\n",
    "    elif ((d1 == 0) or (d2 == 0)):\n",
    "        return -10**10\n",
    "    else:\n",
    "        return 0\n",
    "\n",
    "def rc2(x, y):\n",
    "    z = 100*f(x,y,2) + 10*f(x,y,1) + f(x,y,0)\n",
    "    return ((f(x,y,3) == 42) and (z == 206))\n",
    "\n",
    "print('rc2:', rc2(42, 99))"
   ]
  }
 ],
 "metadata": {
  "kernelspec": {
   "display_name": "Python 3",
   "language": "python",
   "name": "python3"
  },
  "language_info": {
   "codemirror_mode": {
    "name": "ipython",
    "version": 3
   },
   "file_extension": ".py",
   "mimetype": "text/x-python",
   "name": "python",
   "nbconvert_exporter": "python",
   "pygments_lexer": "ipython3",
   "version": "3.12.0"
  }
 },
 "nbformat": 4,
 "nbformat_minor": 2
}
