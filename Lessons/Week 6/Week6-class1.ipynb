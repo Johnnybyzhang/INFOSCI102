{
 "cells": [
  {
   "cell_type": "code",
   "execution_count": 1,
   "metadata": {},
   "outputs": [],
   "source": [
    "f = open('sample.txt')"
   ]
  },
  {
   "cell_type": "code",
   "execution_count": 3,
   "metadata": {},
   "outputs": [
    {
     "name": "stdout",
     "output_type": "stream",
     "text": [
      "many years ago , there was an emperor , who was so excessively fond of new clothes , that he spent all his money in dress .\n",
      "\n"
     ]
    }
   ],
   "source": [
    "f = open(\"sample.txt\", \"r\") # read mode\n",
    "# print(len(f.read()))\n",
    "lines = f.readlines() # reads the lines of a file as a list of strings\n",
    "for line in lines:\n",
    "    print(line)\n",
    "    break\n",
    "\n",
    "f.close()\n"
   ]
  },
  {
   "cell_type": "code",
   "execution_count": null,
   "metadata": {},
   "outputs": [],
   "source": [
    "# import os\n",
    "# os.listdir(os.getcwd()) \n",
    "\n",
    "text = \"many years ago , there was an emperor , who was so excessively fond of new clothes , that he spent all his money in dress .\\n asdfadjf;ljeauiewhfhahfd\"\n",
    "text.splitlines()"
   ]
  },
  {
   "cell_type": "code",
   "execution_count": null,
   "metadata": {},
   "outputs": [],
   "source": [
    "f = open('text1.txt', 'r')"
   ]
  },
  {
   "cell_type": "code",
   "execution_count": null,
   "metadata": {},
   "outputs": [],
   "source": [
    "import csv\n",
    "\n",
    "f = open('icecream.csv', 'r')\n",
    "reader = csv.reader(f)\n",
    "\n",
    "data = []\n",
    "for row in reader:\n",
    "    data.append(row)\n",
    "\n",
    "print(data)\n",
    "f.close()"
   ]
  },
  {
   "cell_type": "code",
   "execution_count": null,
   "metadata": {},
   "outputs": [],
   "source": [
    "data = [[ \"chocolate\", \"mint chocolate\", \"peppermint\" ],\n",
    "        [\"greentea\", \"apple\"],\n",
    "        [ \"vanilla\", \"matcha\", \"coffee\" ],\n",
    "        [ \"strawberry\", \"mango\", \"cherry\" ]]\n",
    "\n",
    "f = open(\"results.csv\", \"w\", newline=\"\")\n",
    "writer = csv.writer(f)\n",
    "\n",
    "for row in data:\n",
    "    writer.writerow(row)\n",
    "\n",
    "f.close()"
   ]
  },
  {
   "cell_type": "code",
   "execution_count": null,
   "metadata": {},
   "outputs": [],
   "source": [
    "{\"vanilla\": 10,\n",
    " \"chocolate\":{\n",
    "     \"chocolate\": 15, \n",
    "     \"chocolate chip\":7,\n",
    "     \"mint chocolate chip\":5\n",
    " },\n",
    " \"other\":[\"strawberry\", \"matcha\", \"coffee\"]\n",
    "}"
   ]
  },
  {
   "cell_type": "code",
   "execution_count": null,
   "metadata": {},
   "outputs": [],
   "source": [
    "import json\n",
    "f = open(\"icecream.json\", \"r\")\n",
    "j = json.load(f)\n",
    "\n",
    "print(type(j))\n",
    "f.close()"
   ]
  },
  {
   "cell_type": "code",
   "execution_count": null,
   "metadata": {},
   "outputs": [],
   "source": [
    "d = {\"vanilla\": 10,\n",
    "     \"chocolate\": 27,\n",
    "     \"greentea\": 15,\n",
    "     \"other\": [\"strawberry\", \"matcha\", \"coffee\"]}\n",
    "\n",
    "f = open(\"results.json\", \"w\")\n",
    "json.dump(d, f)\n",
    "f.close()\n"
   ]
  },
  {
   "cell_type": "markdown",
   "metadata": {},
   "source": [
    "## Simulation\n",
    "\n",
    "Tkinter is built-in python module used to create the Graphical User Interface for windows applications.\n",
    "\n",
    "In this post we will learn about how we can create a random dice rolling simulator with dice unicode strings in tkinter and random module."
   ]
  },
  {
   "cell_type": "code",
   "execution_count": null,
   "metadata": {},
   "outputs": [],
   "source": [
    "from tkinter import *\n",
    "import random"
   ]
  },
  {
   "cell_type": "code",
   "execution_count": null,
   "metadata": {},
   "outputs": [],
   "source": [
    "## create windows\n",
    "\n",
    "window = Tk()\n",
    "\n",
    "window.mainloop()"
   ]
  },
  {
   "cell_type": "markdown",
   "metadata": {},
   "source": [
    "Configure the size of the GUI and give it a title."
   ]
  },
  {
   "cell_type": "code",
   "execution_count": null,
   "metadata": {},
   "outputs": [],
   "source": [
    "from tkinter import *\n",
    "import random\n",
    "\n",
    "window = Tk()\n",
    "\n",
    "window.minsize(600,600)   # for setting the minimum width and height for our window\n",
    "window.maxsize(600,600)   # for setting the maximum width and height for our window  \n",
    "window.title('ROLL THE DICE')  # for giving title to our window\n",
    "\n",
    "window.mainloop()"
   ]
  },
  {
   "cell_type": "markdown",
   "metadata": {},
   "source": [
    "Next, we create a label as the banner"
   ]
  },
  {
   "cell_type": "code",
   "execution_count": null,
   "metadata": {},
   "outputs": [],
   "source": [
    "from tkinter import *\n",
    "import random\n",
    "\n",
    "window = Tk()\n",
    "\n",
    "window.minsize(600,600)   # for setting the minimum width and height for our window\n",
    "window.maxsize(600,600)   # for setting the maximum width and height for our window  \n",
    "window.title('ROLL THE DICE')  # for giving title to our window\n",
    "\n",
    "heading = Label(window,text='ROLL THE DICE',font=('bold',50),bg='light cyan')  # This will creat a label for the heading.\n",
    "heading.pack(fill=X)   # You have to pack this label so that it can be seen in the window\n",
    "\n",
    "window.mainloop()"
   ]
  },
  {
   "cell_type": "markdown",
   "metadata": {},
   "source": [
    "Next, we create a function to roll the dice. "
   ]
  },
  {
   "cell_type": "code",
   "execution_count": null,
   "metadata": {},
   "outputs": [],
   "source": [
    "from tkinter import *\n",
    "import random\n",
    "\n",
    "window = Tk()\n",
    "\n",
    "def roll():   # This is a blank function\n",
    "    pass\n",
    "\n",
    "window.minsize(600,600)   # for setting the minimum width and height for our window\n",
    "window.maxsize(600,600)   # for setting the maximum width and height for our window  \n",
    "window.title('ROLL THE DICE')  # for giving title to our window\n",
    "\n",
    "# This will create a label which will contain heading\n",
    "heading = Label(window,text='ROLL THE DICE',font=('bold',50),bg='light cyan')\n",
    "heading.pack(fill=X)\n",
    "\n",
    "window.mainloop()"
   ]
  },
  {
   "cell_type": "markdown",
   "metadata": {},
   "source": [
    "Add a button in the window. "
   ]
  },
  {
   "cell_type": "code",
   "execution_count": null,
   "metadata": {},
   "outputs": [],
   "source": [
    "from tkinter import *\n",
    "import random\n",
    "\n",
    "window = Tk()\n",
    "\n",
    "def roll():   # This is a blank function\n",
    "    pass\n",
    "\n",
    "window.minsize(600,600)   # for setting the minimum width and height for our window\n",
    "window.maxsize(600,600)   # for setting the maximum width and height for our window  \n",
    "window.title('ROLL THE DICE')  # for giving title to our window\n",
    "\n",
    "# This will create a label which will contain heading\n",
    "heading = Label(window,text='ROLL THE DICE',font=('bold',50),bg='light cyan')\n",
    "heading.pack(fill=X)\n",
    "\n",
    "# This will create a button.\n",
    "button = Button(window,text='Roll',font=('normal',25),command=lambda:roll())\n",
    "button.pack()\n",
    "\n",
    "window.mainloop()"
   ]
  },
  {
   "cell_type": "markdown",
   "metadata": {},
   "source": [
    "We add the random function within the roll function. "
   ]
  },
  {
   "cell_type": "code",
   "execution_count": null,
   "metadata": {},
   "outputs": [],
   "source": [
    "from tkinter import *\n",
    "import random\n",
    "\n",
    "window = Tk()\n",
    "\n",
    "label = Label(window,font=('bold',400))\n",
    "def roll():\n",
    "    number = ['\\u2680','\\u2681','\\u2682','\\u2683','\\u2684','\\u2685']\n",
    "    label.config(text=f'{random.choice(number)}')\n",
    "    label.pack()\n",
    "\n",
    "window.minsize(600,600)   # for setting the minimum width and height for our window\n",
    "window.maxsize(600,600)   # for setting the maximum width and height for our window  \n",
    "window.title('ROLL THE DICE')  # for giving title to our window\n",
    "\n",
    "# This will create a label which will contain heading\n",
    "heading = Label(window,text='ROLL THE DICE',font=('bold',50),bg='light cyan')\n",
    "heading.pack(fill=X)\n",
    "\n",
    "# This will create a button.\n",
    "button = Button(window,text='Roll',font=('normal',25),command=lambda:roll())\n",
    "button.pack()\n",
    "\n",
    "window.mainloop()"
   ]
  },
  {
   "cell_type": "markdown",
   "metadata": {},
   "source": [
    "Try to write a function to roll two dices at the same time. "
   ]
  },
  {
   "cell_type": "code",
   "execution_count": null,
   "metadata": {},
   "outputs": [],
   "source": []
  }
 ],
 "metadata": {
  "kernelspec": {
   "display_name": "Python 3",
   "language": "python",
   "name": "python3"
  },
  "language_info": {
   "codemirror_mode": {
    "name": "ipython",
    "version": 3
   },
   "file_extension": ".py",
   "mimetype": "text/x-python",
   "name": "python",
   "nbconvert_exporter": "python",
   "pygments_lexer": "ipython3",
   "version": "3.7.4"
  }
 },
 "nbformat": 4,
 "nbformat_minor": 4
}
