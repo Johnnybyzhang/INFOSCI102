{
  "nbformat": 4,
  "nbformat_minor": 0,
  "metadata": {
    "colab": {
      "provenance": [],
      "collapsed_sections": []
    },
    "kernelspec": {
      "name": "python3",
      "display_name": "Python 3"
    },
    "language_info": {
      "name": "python"
    }
  },
  "cells": [
    {
      "cell_type": "markdown",
      "source": [
        "## File System Navigation\n",
        "\n",
        "Folders can contain folders or files. Since folders can contain other folders, they are a recursive data structure. In fact, they are a kind of recursive structure called a tree (where each value has exactly one parent, and there is a topmost or \"root\" value). Traversing such a recursive data structure is a natural use of a recursive algorithm!\n"
      ],
      "metadata": {
        "id": "95QR8tpCptm6"
      }
    },
    {
      "cell_type": "code",
      "execution_count": null,
      "metadata": {
        "id": "6UhNrhpQph2c"
      },
      "outputs": [],
      "source": [
        "import os\n",
        "def printFiles(path):\n",
        "    # Base Case: a file. Just print the path name.\n",
        "    if os.path.isfile(path):\n",
        "        print(path)\n",
        "    else:\n",
        "        # Recursive Case: a folder. Iterate through its files and folders.\n",
        "        for filename in os.listdir(path):\n",
        "            printFiles(path + '/' + filename)\n",
        "\n",
        "printFiles('sample_data')\n",
        "\n",
        "# Note: if you see .DS_Store files in the sampleFiles folders, or in the\n",
        "# output of your function (as often happens with Macs, in particular),\n",
        "# don't worry: this is just a metadata file and can be safely ignored."
      ]
    },
    {
      "cell_type": "markdown",
      "source": [
        "listFiles"
      ],
      "metadata": {
        "id": "OMgzeXlhtY4e"
      }
    },
    {
      "cell_type": "code",
      "source": [
        "import os\n",
        "def listFiles(path):\n",
        "    if os.path.isfile(path):\n",
        "        # Base Case: return a list of just this file\n",
        "        return [ path ]\n",
        "    else:\n",
        "        # Recursive Case: create a list of all the recursive results from\n",
        "        # all the folders and files in this folder\n",
        "        files = [ ]\n",
        "        for filename in os.listdir(path):\n",
        "            files += listFiles(path + '/' + filename)\n",
        "        return files\n",
        "\n",
        "print(listFiles('sample_data'))"
      ],
      "metadata": {
        "id": "fBE6f4umtayO"
      },
      "execution_count": null,
      "outputs": []
    },
    {
      "cell_type": "markdown",
      "source": [
        "removeTempFiles  \n",
        "\n",
        "Note: Be careful when using os.remove(): it's permanent and cannot be undone!\n",
        "\n",
        "That said, this can be handy, say to remove .DS_Store files on Macs, and can be modified to remove other kinds of files, too. Just be careful."
      ],
      "metadata": {
        "id": "TNTQgV_dyCQY"
      }
    },
    {
      "cell_type": "code",
      "source": [
        "import os\n",
        "def removeTempFiles(path, suffix='.DS_Store'):\n",
        "    if path.endswith(suffix):\n",
        "        print(f'Removing file: {path}')\n",
        "        os.remove(path)\n",
        "    elif os.path.isdir(path):\n",
        "        for filename in os.listdir(path):\n",
        "            removeTempFiles(path + '/' + filename, suffix)\n",
        "\n",
        "removeTempFiles('sample_data') # be careful"
      ],
      "metadata": {
        "id": "wrU5nkGyx-6Y"
      },
      "execution_count": null,
      "outputs": []
    },
    {
      "cell_type": "markdown",
      "source": [
        "## Memoization\n",
        "\n",
        "Memoization is a general technique to make certain recursive applications more efficient. The Big idea: when a program does a lot of repetitive computation, store results as they are computed, then look up and reuse results when available."
      ],
      "metadata": {
        "id": "1speUEvAzgqm"
      }
    },
    {
      "cell_type": "markdown",
      "source": [
        "1. The problem"
      ],
      "metadata": {
        "id": "rqsOuWLozoUe"
      }
    },
    {
      "cell_type": "code",
      "source": [
        "def fib(n):\n",
        "    if (n < 2):\n",
        "        return 1\n",
        "    else:\n",
        "        return fib(n-1) + fib(n-2)\n",
        "\n",
        "import time\n",
        "\n",
        "def testFib(maxN=40):\n",
        "    for n in range(maxN+1):\n",
        "        start = time.time()\n",
        "        fibOfN = fib(n)\n",
        "        ms = 1000*(time.time() - start)\n",
        "        print(f'fib({n:2}) = {fibOfN:8}, time = {ms:5.2f}ms')\n",
        "\n",
        "testFib() # gets really slow!"
      ],
      "metadata": {
        "id": "bnfXL3G5zphn"
      },
      "execution_count": null,
      "outputs": []
    },
    {
      "cell_type": "markdown",
      "source": [
        "2. A solution:"
      ],
      "metadata": {
        "id": "qTqxKCqVz0Bl"
      }
    },
    {
      "cell_type": "code",
      "source": [
        "fibResults = dict()\n",
        "\n",
        "def fib(n):\n",
        "    if (n in fibResults):\n",
        "        return fibResults[n]\n",
        "    if (n < 2):\n",
        "        result = 1\n",
        "    else:\n",
        "        result = fib(n-1) + fib(n-2)\n",
        "    fibResults[n] = result\n",
        "    return result\n",
        "\n",
        "import time\n",
        "def testFib(maxN=40):\n",
        "    for n in range(maxN+1):\n",
        "        start = time.time()\n",
        "        fibOfN = fib(n)\n",
        "        ms = 1000*(time.time() - start)\n",
        "        print(f'fib({n:2}) = {fibOfN:8}, time = {ms:5.2f}ms')\n",
        "\n",
        "testFib() # ahhh, much better!"
      ],
      "metadata": {
        "id": "EjxKO5kfz3E3"
      },
      "execution_count": null,
      "outputs": []
    },
    {
      "cell_type": "markdown",
      "source": [
        "3. A more elegant solution:"
      ],
      "metadata": {
        "id": "ywSOfmTD1unm"
      }
    },
    {
      "cell_type": "code",
      "source": [
        "def memoized(f):\n",
        "    # You are not responsible for how this decorator works. You can just use it!\n",
        "    import functools\n",
        "    cachedResults = dict()\n",
        "    @functools.wraps(f)\n",
        "    def wrapper(*args):\n",
        "        if args not in cachedResults:\n",
        "            cachedResults[args] = f(*args)\n",
        "        return cachedResults[args]\n",
        "    return wrapper\n",
        "\n",
        "@memoized\n",
        "def fib(n):\n",
        "    if (n < 2):\n",
        "        return 1\n",
        "    else:\n",
        "        return fib(n-1) + fib(n-2)\n",
        "\n",
        "import time\n",
        "def testFib(maxN=40):\n",
        "    for n in range(maxN+1):\n",
        "        start = time.time()\n",
        "        fibOfN = fib(n)\n",
        "        ms = 1000*(time.time() - start)\n",
        "        print(f'fib({n:2}) = {fibOfN:8}, time = {ms:5.2f}ms')\n",
        "\n",
        "testFib() # ahhh, much better!"
      ],
      "metadata": {
        "id": "qFZC8QDQ1xyu"
      },
      "execution_count": null,
      "outputs": []
    }
  ]
}